{
 "cells": [
  {
   "cell_type": "markdown",
   "metadata": {
    "id": "5psMKE_DC7zK"
   },
   "source": [
    "# WebScrapping"
   ]
  },
  {
   "cell_type": "markdown",
   "metadata": {
    "id": "SUaVwRs5C7zP"
   },
   "source": [
    "![texte](https://www.antevenio.com/wp-content/uploads/2019/03/web-scraping-attack.jpg)"
   ]
  },
  {
   "cell_type": "markdown",
   "metadata": {
    "id": "9JFmKr6PC7zQ"
   },
   "source": [
    "#### El Web Scrapping  se trata de un proceso de usar bots para extraer contenido y datos de un sitio web. De esta forma se extrae el código HTML. Y, con él, los datos almacenados en la base de datos. Esto supone que se puede duplicar o copiar todo el contenido del sitio web en otro lugar.\n",
    "\n",
    "El web scraping se utiliza en muchas empresas digitales que se dedican a la recopilación de bases de datos. Para aclarar mejor qué es el web scraping debes saber cuáles son los casos de uso legítimo del mismo:\n",
    "\n",
    "Los robots de los motores de búsqueda rastrean un sitio, analizan su contenido y luego lo clasifican.\n",
    "\n",
    "Sitios de comparación de precios que implementan bots para obtener automáticamente precios y descripciones de productos para sitios web de vendedores aliados.\n",
    "\n",
    "Compañías de investigación de mercado que lo utilizan para extraer datos de foros y redes sociales.\n"
   ]
  },
  {
   "cell_type": "markdown",
   "metadata": {
    "id": "C9-EUyx2C7zR"
   },
   "source": [
    "## Librerías a usar"
   ]
  },
  {
   "cell_type": "code",
   "execution_count": 1,
   "metadata": {
    "id": "kWxLdP4PC7zS",
    "outputId": "9948b0d7-e166-4fd1-ed54-5b1a7c0ad8f6"
   },
   "outputs": [
    {
     "name": "stdout",
     "output_type": "stream",
     "text": [
      "Requirement already satisfied: beautifulsoup4 in c:\\users\\cezza\\miniconda3\\envs\\bd\\lib\\site-packages (4.12.2)\n",
      "Requirement already satisfied: soupsieve>1.2 in c:\\users\\cezza\\miniconda3\\envs\\bd\\lib\\site-packages (from beautifulsoup4) (2.4)\n"
     ]
    }
   ],
   "source": [
    "!pip install beautifulsoup4\n"
   ]
  },
  {
   "cell_type": "code",
   "execution_count": 2,
   "metadata": {
    "id": "v_5ME0vgC7zU",
    "outputId": "93ae699b-d5a5-453e-a676-fb5a091e58bc"
   },
   "outputs": [
    {
     "name": "stdout",
     "output_type": "stream",
     "text": [
      "Requirement already satisfied: requests in c:\\users\\cezza\\miniconda3\\envs\\bd\\lib\\site-packages (2.29.0)\n",
      "Requirement already satisfied: urllib3<1.27,>=1.21.1 in c:\\users\\cezza\\miniconda3\\envs\\bd\\lib\\site-packages (from requests) (1.26.16)\n",
      "Requirement already satisfied: certifi>=2017.4.17 in c:\\users\\cezza\\miniconda3\\envs\\bd\\lib\\site-packages (from requests) (2023.5.7)\n",
      "Requirement already satisfied: idna<4,>=2.5 in c:\\users\\cezza\\miniconda3\\envs\\bd\\lib\\site-packages (from requests) (3.4)\n",
      "Requirement already satisfied: charset-normalizer<4,>=2 in c:\\users\\cezza\\miniconda3\\envs\\bd\\lib\\site-packages (from requests) (2.0.4)\n"
     ]
    }
   ],
   "source": [
    "!pip install requests"
   ]
  },
  {
   "cell_type": "code",
   "execution_count": 3,
   "metadata": {
    "id": "RJe5r1NXC7zV",
    "outputId": "7e34ad70-8483-4c7e-8980-3cfa3b191124"
   },
   "outputs": [
    {
     "name": "stdout",
     "output_type": "stream",
     "text": [
      "Requirement already satisfied: beautifulsoup4 in c:\\users\\cezza\\miniconda3\\envs\\bd\\lib\\site-packages (4.12.2)\n",
      "Requirement already satisfied: soupsieve>1.2 in c:\\users\\cezza\\miniconda3\\envs\\bd\\lib\\site-packages (from beautifulsoup4) (2.4)\n"
     ]
    }
   ],
   "source": [
    "#Instalación de librería\n",
    "import sys\n",
    "!{sys.executable} -m pip install beautifulsoup4"
   ]
  },
  {
   "cell_type": "markdown",
   "metadata": {
    "id": "tR8SChuEC7zW"
   },
   "source": [
    "# Ejercicio 1"
   ]
  },
  {
   "cell_type": "code",
   "execution_count": 4,
   "metadata": {
    "id": "-9oQZZE6C7zX"
   },
   "outputs": [],
   "source": [
    "import urllib.request"
   ]
  },
  {
   "cell_type": "code",
   "execution_count": 5,
   "metadata": {
    "id": "elGTOkQGC7zX"
   },
   "outputs": [],
   "source": [
    "datos=urllib.request.urlopen('https://www.openwebinars.net').read().decode()"
   ]
  },
  {
   "cell_type": "code",
   "execution_count": 6,
   "metadata": {
    "id": "LEJif48mC7zY",
    "outputId": "df533e34-7e52-4c88-8e23-bb97a1282bc9"
   },
   "outputs": [
    {
     "data": {
      "text/plain": [
       "'\\n<!DOCTYPE html>\\n<html lang=\"es\">\\n<head>\\n<meta charset=\"UTF-8\">\\n<meta http-equiv=\"X-UA-Compatible\" content=\"IE=edge\">\\n<meta name=\"viewport\" content=\"width=device-width, initial-scale=1.0\">\\n<meta name=\"google-site-verification\" content=\"3xIl6rwvbZFMPw2Os_ecSGlPPwrQuE11U5J9Ko2bbas\"/>\\n<meta property=\"fb:pages\" content=\"411445362304338\"/>\\n<title>Cursos online de Programación y Sistemas en vídeo | OpenWebinars</title>\\n<link rel=\"shortcut icon\" href=\"/static/public/images/favicons/favicon.ico\" sizes=\"64x64\"/>\\n<link rel=\"apple-touch-icon\" sizes=\"57x57\" href=\"/static/public/images/favicons/xapple-icon-57x57.png.pagespeed.ic.7OyWpP5A5m.png\">\\n<link rel=\"apple-touch-icon\" sizes=\"60x60\" href=\"/static/public/images/favicons/xapple-icon-60x60.png.pagespeed.ic.ZMuOsdKt-v.png\">\\n<link rel=\"apple-touch-icon\" sizes=\"72x72\" href=\"/static/public/images/favicons/xapple-icon-72x72.png.pagespeed.ic.0cXT2U6yaP.png\">\\n<link rel=\"apple-touch-icon\" sizes=\"76x76\" href=\"/static/public/images/favicons/xapple-icon-76x76.png.pagespeed.ic.QHd8G2Ux1F.png\">\\n<link rel=\"apple-touch-icon\" sizes=\"114x114\" href=\"/static/public/images/favicons/xapple-icon-114x114.png.pagespeed.ic.r6hpd2VPcl.png\">\\n<link rel=\"apple-touch-icon\" sizes=\"120x120\" href=\"/static/public/images/favicons/xapple-icon-120x120.png.pagespeed.ic.OVXVsTsPTv.png\">\\n<link rel=\"apple-touch-icon\" sizes=\"144x144\" href=\"/static/public/images/favicons/apple-icon-144x144.png\">\\n<link rel=\"apple-touch-icon\" sizes=\"152x152\" href=\"/static/public/images/favicons/xapple-icon-152x152.png.pagespeed.ic.a775KmHNKE.png\">\\n<link rel=\"apple-touch-icon\" sizes=\"180x180\" href=\"/static/public/images/favicons/xapple-icon-180x180.png.pagespeed.ic.oxc1O9U2mj.png\">\\n<link rel=\"icon\" type=\"image/png\" sizes=\"192x192\" href=\"/static/public/images/favicons/xandroid-icon-192x192.png.pagespeed.ic.YqIlxLO7kC.png\">\\n<link rel=\"icon\" type=\"image/png\" sizes=\"32x32\" href=\"/static/public/images/favicons/xfavicon-32x32.png.pagespeed.ic.1RPJ6u4vm4.png\">\\n<link rel=\"icon\" type=\"image/png\" sizes=\"96x96\" href=\"/static/public/images/favicons/xfavicon-96x96.png.pagespeed.ic.tLHiIT3X4K.png\">\\n<link rel=\"icon\" type=\"image/png\" sizes=\"16x16\" href=\"/static/public/images/favicons/xfavicon-16x16.png.pagespeed.ic.eLdmBrJyTZ.png\">\\n<link rel=\"manifest\" href=\"/static/public/images/favicons/manifest.json\">\\n<meta name=\"msapplication-TileColor\" content=\"#ffffff\">\\n<meta name=\"msapplication-TileImage\" content=\"/static/public/images/favicons/ms-icon-144x144.png\">\\n<meta name=\"theme-color\" content=\"#ffffff\">\\n<meta name=\"robots\" content=\"index, follow\">\\n<link rel=\"canonical\" href=\"https://openwebinars.net/\"/>\\n<meta name=\"description\" content=\"Aprende tecnología desde cero. Cursos de Ethical Hacking, Cloud Computing, Devops, Big Data, Sistemas, Programación, Frameworks y Metodologías.\"/>\\n<!-- Google Authorship and Publisher Markup -->\\n<link type=\"text/plain\" rel=\"author\" href=\"http://openwebinars.net/humans.txt\"/>\\n<link rel=\"alternate\" type=\"application/rss+xml\" title=\"OpenWebinars.net &raquo; Feed\" href=\"/feed\"/>\\n<!-- Twitter Card data -->\\n<meta name=\"twitter:card\" content=\"summary_large_image\">\\n<meta name=\"twitter:site\" content=\"@openwebinarsnet\">\\n<meta name=\"twitter:title\" content=\"OpenWebinars, Aceleradora de Profesionales Tecnológicos\">\\n<meta name=\"twitter:description\" content=\"Aprende programación y administración de sistemas con los mejores profesionales desde cualquier punto del mundo, mediante clases en directo con tu profesor\">\\n<meta name=\"twitter:creator\" content=\"@openwebinarsnet\">\\n<!-- Twitter summary card with large image must be at least 280x150px -->\\n<meta name=\"twitter:image\" content=\"/static/img/opengraph.jpeg\">\\n<!-- Open Graph data -->\\n<meta property=\"og:title\" content=\"OpenWebinars.net la mejor comunidad de programadores y Administradores de sistemas\"/>\\n<meta property=\"og:locale\" content=\"es_ES\"/>\\n<meta property=\"og:type\" content=\"article\"/>\\n<meta property=\"og:url\" content=\"https://openwebinars.net\"/>\\n<meta property=\"og:image\" content=\"https://openwebinars.net/static/img/opengraph.jpeg\"/>\\n<meta property=\"og:description\" content=\"Aprende tecnología desde cero. Cursos de Ethical Hacking, Cloud Computing, Devops, Big Data, Sistemas, Programación, Frameworks y Metodologías.\"/>\\n<meta property=\"og:site_name\" content=\"OpenWebinars.net\"/>\\n<meta property=\"fb:admins\" content=\"100001483111976\"/>\\n<meta property=\"fb:app_id\" content=\"618927021547911\"/>\\n<style>@import url(https://fonts.googleapis.com/css2?family=Space+Grotesk:wght@400;500;600;700&display=swap);@font-face{font-family:\"icomoon\";src:url(static/public/fonts/icomoon.eot?a2dbzx);src:url(static/public/fonts/icomoon.eot?a2dbzx#iefix) format(\"embedded-opentype\") , url(static/public/fonts/icomoon.ttf?a2dbzx) format(\"truetype\") , url(static/public/fonts/icomoon.woff?a2dbzx) format(\"woff\") , url(static/public/fonts/icomoon.svg?a2dbzx#icomoon) format(\"svg\");font-weight:normal;font-style:normal;font-display:block}*,*::before,*::after{-webkit-box-sizing:border-box;box-sizing:border-box}html{line-height:1.15;-webkit-text-size-adjust:100%}body{margin:0}main{display:block}h1{font-size:2em;margin:.67em 0}a{background-color:rgba(0,0,0,0)}strong{font-weight:bolder}small{font-size:80%}img{border-style:none}button,input{font-family:inherit;font-size:100%;line-height:1.15;margin:0}button,input{overflow:visible}button{text-transform:none}button,[type=\"button\"]{-webkit-appearance:button}button::-moz-focus-inner,[type=\"button\"]::-moz-focus-inner{border-style:none;padding:0}button:-moz-focusring,[type=\"button\"]:-moz-focusring{outline:1px dotted ButtonText}::-webkit-file-upload-button{-webkit-appearance:button;font:inherit}[class^=\"icon-\"]{font-family:\"icomoon\"!important;speak:never;font-style:normal;font-weight:normal;font-variant:normal;text-transform:none;line-height:1;-webkit-font-smoothing:antialiased;-moz-osx-font-smoothing:grayscale}.icon-twitter:before{content:\"\\ue900\"}.icon-facebook:before{content:\"\\ue901\"}.icon-instagram:before{content:\"\\ue902\"}.icon-linkedin:before{content:\"\\ue903\"}.icon-arrow-right:before{content:\"\\ue91d\"}.icon-arrow-up:before{content:\"\\ue91f\"}.icon-chevron-right:before{content:\"\\ue93b\"}.icon-menu:before{content:\"\\ue9a3\"}.icon-search:before{content:\"\\ue9d7\"}.icon-x:before{content:\"\\uea1c\"}body{display:-webkit-box;display:-ms-flexbox;display:flex;-webkit-box-orient:vertical;-webkit-box-direction:normal;-ms-flex-direction:column;flex-direction:column;min-height:100vh;font-family:\"Space Grotesk\",sans-serif}.main{padding-top:68px;-webkit-box-flex:1;-ms-flex-positive:1;flex-grow:1}.h1{font-size:3rem;line-height:4.25rem}h2{font-size:2.5rem;line-height:3.5rem}.h3{font-size:2rem;line-height:2.8rem}.h4{font-size:1.75rem;line-height:2.45rem}.h5{font-size:1.5rem;line-height:2.25rem}.pretitle{font-size:.75rem;line-height:1.0625rem;font-weight:700;text-transform:uppercase}.table tr:nth-child(odd){background-color:#f6f6f6}figure{margin:0;padding:0}.img-responsive{display:-webkit-box;display:-ms-flexbox;display:flex}.img-responsive img{max-width:100%;height:auto}ul{padding:0;margin:0}li{list-style:none;padding:0;margin:0}a{text-decoration:none;color:inherit}button{border:0;padding:0;background-color:rgba(0,0,0,0);cursor:pointer}.container{margin:0 auto;width:100%;padding:0 1rem}@media screen and (min-width:640px){.container{max-width:576px}}@media screen and (min-width:768px){.container{max-width:704px}}@media screen and (min-width:1024px){.container{max-width:960px}}@media screen and (min-width:1280px){.container{max-width:1216px}}@media screen and (min-width:1536px){.container{max-width:1472px}}.row{display:-webkit-box;display:-ms-flexbox;display:flex;-ms-flex-wrap:wrap;flex-wrap:wrap}.col-6{width:50%}.col-12{width:100%}@media screen and (min-width:1024px){.col-lg-3{width:25%}.col-lg-6{width:50%}.col-lg-8{width:66.6666666667%}}@media screen and (min-width:1280px){.col-xl-5{width:41.6666666667%}}.col-2-gap:nth-child(odd){padding-right:.5rem}.col-2-gap:nth-child(even){padding-left:.5rem}.col-3-gap:nth-child(3n+1){padding-left:1rem;padding-right:.5rem}.col-3-gap:nth-child(3n+2){padding-left:.5rem;padding-right:.5rem}.col-3-gap:nth-child(3n+3){padding-left:.5rem;padding-right:1rem}@media screen and (min-width:640px){.col-sm-2-gap:nth-child(odd){padding-right:.5rem}.col-sm-2-gap:nth-child(even){padding-left:.5rem}.col-3-sm-gap:nth-child(3n+1){padding-left:1rem;padding-right:.5rem}.col-3-sm-gap:nth-child(3n+2){padding-left:.5rem;padding-right:.5rem}.col-3-sm-gap:nth-child(3n+3){padding-left:.5rem;padding-right:1rem}}@media screen and (min-width:768px){.col-md-2-gap:nth-child(odd){padding-right:.5rem}.col-md-2-gap:nth-child(even){padding-left:.5rem}.col-3-md-gap:nth-child(3n+1){padding-left:1rem;padding-right:.5rem}.col-3-md-gap:nth-child(3n+2){padding-left:.5rem;padding-right:.5rem}.col-3-md-gap:nth-child(3n+3){padding-left:.5rem;padding-right:1rem}}@media screen and (min-width:1024px){.col-lg-2-gap:nth-child(odd){padding-right:.5rem}.col-lg-2-gap:nth-child(even){padding-left:.5rem}.col-3-lg-gap:nth-child(3n+1){padding-left:1rem;padding-right:.5rem}.col-3-lg-gap:nth-child(3n+2){padding-left:.5rem;padding-right:.5rem}.col-3-lg-gap:nth-child(3n+3){padding-left:.5rem;padding-right:1rem}}@media screen and (min-width:1280px){.col-xl-2-gap:nth-child(odd){padding-right:.5rem}.col-xl-2-gap:nth-child(even){padding-left:.5rem}.col-3-xl-gap:nth-child(3n+1){padding-left:1rem;padding-right:.5rem}.col-3-xl-gap:nth-child(3n+2){padding-left:.5rem;padding-right:.5rem}.col-3-xl-gap:nth-child(3n+3){padding-left:.5rem;padding-right:1rem}}@media screen and (min-width:1536px){.col-xxl-2-gap:nth-child(odd){padding-right:.5rem}.col-xxl-2-gap:nth-child(even){padding-left:.5rem}.col-3-xxl-gap:nth-child(3n+1){padding-left:1rem;padding-right:.5rem}.col-3-xxl-gap:nth-child(3n+2){padding-left:.5rem;padding-right:.5rem}.col-3-xxl-gap:nth-child(3n+3){padding-left:.5rem;padding-right:1rem}}.arrow-button{position:fixed;display:-webkit-box!important;display:-ms-flexbox!important;display:flex!important;-webkit-box-pack:center;-ms-flex-pack:center;justify-content:center;-webkit-box-align:center;-ms-flex-align:center;align-items:center;background-color:#f63d68;color:#fff;top:calc(82vh + 100px);pointer-events:all;right:50px;border:none;width:36px;height:36px;cursor:pointer;z-index:10;-webkit-animation:popup .3s ease-in-out;animation:popup .3s ease-in-out}@-webkit-keyframes popup{0%{width:0px;height:0px}50%{width:50px;height:50px}100%{width:36px;height:36px}}@keyframes popup{0%{width:0px;height:0px}50%{width:50px;height:50px}100%{width:36px;height:36px}}.btn{display:inline-block;font-weight:500;line-height:2;color:inherit;text-align:center;text-decoration:none;vertical-align:middle;cursor:pointer;-webkit-user-select:none;-moz-user-select:none;-ms-user-select:none;user-select:none;background-color:rgba(0,0,0,0);border:2px solid rgba(0,0,0,0);-webkit-transition:color .15s ease-in-out , background-color .15s ease-in-out , border-color .15s ease-in-out , -webkit-box-shadow .15s ease-in-out;transition:color .15s ease-in-out , background-color .15s ease-in-out , border-color .15s ease-in-out , -webkit-box-shadow .15s ease-in-out;transition:color .15s ease-in-out , background-color .15s ease-in-out , border-color .15s ease-in-out , box-shadow .15s ease-in-out;transition:color .15s ease-in-out , background-color .15s ease-in-out , border-color .15s ease-in-out , box-shadow .15s ease-in-out , -webkit-box-shadow .15s ease-in-out;height:36px;padding:0 1rem;font-size:1rem;white-space:nowrap}.btn.btn-lg{height:44px;padding:0 1rem;font-size:1rem;line-height:2.5}.btn.btn-xl{height:48px;padding:0 1rem;font-size:1rem;line-height:2.8}.btn--flex{display:-webkit-box;display:-ms-flexbox;display:flex;-webkit-box-align:center;-ms-flex-align:center;align-items:center}.btn-primary{color:#fff;background-color:#f63d68;border-color:#f63d68}.btn-primary:hover{background-color:#a11043;border-color:#a11043}.btn-primary:active:focus{background-color:#c01048;border-color:#c01048;-webkit-box-shadow:0 0 0 .25rem rgba(235,233,254,.5);box-shadow:0 0 0 .25rem rgba(235,233,254,.5)}.btn-primary:disabled{color:#d0d5dd;background-color:#f2f4f7;border-color:#f2f4f7;pointer-events:none}.btn-outline-light{color:#fff;background-color:rgba(255,255,255,0);border-color:#fff}.btn-outline-light:hover{background-color:rgba(255,255,255,.2);border-color:rgba(255,255,255,.8)}.btn-outline-light:active:focus{border-color:#fff;background-color:rgba(255,255,255,.1);-webkit-box-shadow:0 0 0 .25rem rgba(235,233,254,.2);box-shadow:0 0 0 .25rem rgba(235,233,254,.2)}.btn-outline-light:disabled{color:#667085;background-color:rgba(0,0,0,0);border-color:#667085;pointer-events:none}.tab-pane{display:none}.tab-pane.show{display:block}.search-field{overflow:hidden;display:-webkit-box;display:-ms-flexbox;display:flex;-webkit-box-pack:end;-ms-flex-pack:end;justify-content:end;padding:0 10px 0 0;color:#fff;width:30px;padding:4px 10px 4px 0;height:44px;-webkit-transition:width .6s ease , background-color .6s ease .3s;transition:width .6s ease , background-color .6s ease .3s;display:flex;-webkit-box-align:center;-ms-flex-align:center;align-items:center;margin-right:8px}.search-field__input{width:90%}.search-field__input input{width:100%;background-color:rgba(0,0,0,0);border:0;outline:none;color:#98a2b3;margin-left:5px}.search-field__button{color:#fff;font-size:22px}.header{position:fixed;z-index:1000;width:100%;height:68px;display:-webkit-box;display:-ms-flexbox;display:flex;-webkit-box-align:center;-ms-flex-align:center;align-items:center}.header-container{display:-webkit-box;display:-ms-flexbox;display:flex;-webkit-box-pack:justify;-ms-flex-pack:justify;justify-content:space-between;-webkit-box-align:center;-ms-flex-align:center;align-items:center}.header .btn-burger{position:relative;z-index:200000;padding:0;width:35px;display:block;height:35px;display:-webkit-box;display:-ms-flexbox;display:flex;-webkit-box-pack:center;-ms-flex-pack:center;justify-content:center;-webkit-box-align:center;-ms-flex-align:center;align-items:center}@media (min-width:1025px){.header .btn-burger{display:none}}.header .btn-burger [class*=\"icon-\"]{font-size:1.5rem;color:#fff}.header .btn-burger .icon-x{display:none}.header .brand{position:relative;z-index:200000;width:185px}.header .menu .cta-buttons{position:relative;bottom:auto;display:-webkit-box;display:-ms-flexbox;display:flex;-webkit-box-align:top;-ms-flex-align:top;align-items:top;-webkit-box-pack:end;-ms-flex-pack:end;justify-content:end;width:50%;min-height:auto}.header .menu .search-field{display:-webkit-box;display:-ms-flexbox;display:flex}@media screen and (max-width:1025px){.header .menu{position:fixed;z-index:1000;display:-webkit-box;display:-ms-flexbox;display:flex;-webkit-transform:translateX(-100%);transform:translateX(-100%);-webkit-transition:-webkit-transform .6s ease;transition:-webkit-transform .6s ease;transition:transform .6s ease;transition:transform .6s ease , -webkit-transform .6s ease;left:0;top:0;padding-top:120px;min-height:100%;width:100%;background-color:#101828;-webkit-box-pack:justify;-ms-flex-pack:justify;justify-content:space-between;-webkit-box-orient:vertical;-webkit-box-direction:normal;-ms-flex-direction:column;flex-direction:column}.header .menu__list{padding:0;overflow:hidden;overflow-y:auto}.header .menu__item{display:-webkit-box;display:-ms-flexbox;display:flex;-webkit-box-orient:vertical;-webkit-box-direction:normal;-ms-flex-direction:column;flex-direction:column;-webkit-box-align:center;-ms-flex-align:center;align-items:center;list-style:none}.header .menu__item>a,.header .menu__item>button{display:-webkit-box;display:-ms-flexbox;display:flex;min-height:58px;width:100%;-webkit-box-pack:justify;-ms-flex-pack:justify;justify-content:space-between;-webkit-box-align:center;-ms-flex-align:center;align-items:center;color:#fff;text-decoration:none;border-bottom:1px solid #1d2939;padding:0 1rem}.header .menu__item>a:hover,.header .menu__item>button:hover{color:#d0d5dd}.header .menu__item>a [class*=\"icon-\"],.header .menu__item>button [class*=\"icon-\"]{pointer-events:none}.header .menu .cta-buttons{position:absolute;bottom:0;height:auto;display:-webkit-box;display:-ms-flexbox;display:flex;-webkit-box-pack:justify;-ms-flex-pack:justify;justify-content:space-between;width:100%;min-height:75px;padding:1rem;background-color:#1d2939}.header .menu .cta-buttons .btn{margin:0 .2rem;width:50%}.header .menu .search-field{display:none}.header .menu .search-field{position:fixed;top:60px;left:0;display:-webkit-box;display:-ms-flexbox;display:flex;height:60px;width:100%;background-color:#101828}.header .menu .search-field input{height:39px;background-color:rgba(255,255,255,.2);width:95%}.header .submenu{position:fixed;display:none;top:178px;background-color:#1d2939;-webkit-box-orient:vertical;-webkit-box-direction:normal;-ms-flex-direction:column;flex-direction:column;width:100%;height:calc(100% - 255px);overflow-y:auto}.header .submenu__title{display:none}.header .submenu__item{display:-webkit-box;display:-ms-flexbox;display:flex;-webkit-box-align:center;-ms-flex-align:center;align-items:center}.header .submenu__item a{display:-webkit-box;display:-ms-flexbox;display:flex;-webkit-box-align:center;-ms-flex-align:center;align-items:center;color:#fff;height:58px;width:100%;text-decoration:none;font-size:.875rem;padding:0 1rem}.header .submenu__more-content{color:#fff;padding:.8rem 1rem}}@media (min-width:1025px){.header .menu{display:-webkit-box;display:-ms-flexbox;display:flex;-webkit-box-pack:justify;-ms-flex-pack:justify;justify-content:space-between;-webkit-box-align:center;-ms-flex-align:center;align-items:center;-webkit-box-flex:1;-ms-flex:1 1 auto;flex:1 1 auto;padding-left:2rem}}@media (min-width:1025px) and (min-width:1025px){.header .menu{display:-webkit-box;display:-ms-flexbox;display:flex}}@media (min-width:1025px){.header .menu__list{display:-webkit-box;display:-ms-flexbox;display:flex;padding:0}.header .menu__item{position:relative;display:-webkit-box;display:-ms-flexbox;display:flex;-webkit-box-align:center;-ms-flex-align:center;align-items:center;height:68px;padding:0 1rem;list-style:none}.header .menu__item.has-submenu::after{position:absolute;bottom:-20px;left:50%;display:block;width:20px;height:20px;-webkit-transform:rotate(45deg) translateX(-50%);transform:rotate(45deg) translateX(-50%);background-color:#fff}.header .menu__item [class*=\"icon-\"]{display:none}.header .menu__item>a,.header .menu__item>button{color:#fff;text-decoration:none}.header .menu__item>a:hover,.header .menu__item>button:hover{color:#d0d5dd}.header .menu__item:hover::after{content:\"\"}.header .menu__item:hover .submenu{position:absolute;bottom:0;left:0;-webkit-transform:translateY(100%);transform:translateY(100%);display:block;-webkit-box-pack:left;-ms-flex-pack:left;justify-content:left;background-color:#fff}.header .menu__item:hover .submenu__item>a{color:#1d2939}.header .menu__item:hover .submenu__item>a:hover{color:#f63d68}.header .submenu{display:none;padding:1.5rem 2.5rem 1.5rem 2.5rem;-webkit-box-shadow:0 2px 8px -5px #000;box-shadow:0 2px 8px -5px #000}.header .submenu__title{color:#344054;font-size:.75rem;text-transform:uppercase;font-weight:600;letter-spacing:1px}.header .submenu__row{width:auto;max-width:1000px;-webkit-column-count:4;-moz-column-count:4;column-count:4}.header .submenu__item{display:-webkit-box;display:-ms-flexbox;display:flex;-webkit-column-fill:auto;-moz-column-fill:auto;column-fill:auto;-webkit-box-align:center;-ms-flex-align:center;align-items:center;white-space:nowrap}.header .submenu__item>a{display:-webkit-box;display:-ms-flexbox;display:flex;-webkit-box-align:center;-ms-flex-align:center;align-items:center;height:28px;font-size:.815rem;overflow:hidden;margin-right:1rem;text-overflow:ellipsis}.header .submenu__more-content{display:-webkit-box;display:-ms-flexbox;display:flex;-webkit-box-align:center;-ms-flex-align:center;align-items:center;height:38px;color:#344054;font-size:.875rem;text-decoration:none;font-weight:500;margin-top:1rem}.header .submenu__more-content:hover{color:#f63d68}.header .submenu__more-content [class*=\"icon-\"]{color:#344054;margin-top:2px;display:block}}.footer{display:-webkit-box;display:-ms-flexbox;display:flex;-webkit-box-orient:vertical;-webkit-box-direction:normal;-ms-flex-direction:column;flex-direction:column;width:100%;padding-top:2rem;padding:2rem 20px 0 20px}.footer-container{display:-webkit-box;display:-ms-flexbox;display:flex;-webkit-box-orient:vertical;-webkit-box-direction:normal;-ms-flex-direction:column;flex-direction:column;-webkit-box-align:center;-ms-flex-align:center;align-items:center}@media (min-width:1024px){.footer-container{display:-webkit-box;display:-ms-flexbox;display:flex;-webkit-box-orient:horizontal;-webkit-box-direction:normal;-ms-flex-direction:row;flex-direction:row;-webkit-box-align:start;-ms-flex-align:start;align-items:flex-start;-webkit-box-pack:justify;-ms-flex-pack:justify;justify-content:space-between}}.footer .brand{width:100%;width:164px;padding-top:2rem;padding-bottom:3rem}@media (min-width:1024px){.footer .brand{width:184px;padding-top:0}}.footer .group-menu-footer{display:-webkit-box;display:-ms-flexbox;display:flex;width:100%}@media (min-width:1024px){.footer .group-menu-footer{display:-webkit-box;display:-ms-flexbox;display:flex;-webkit-box-pack:end;-ms-flex-pack:end;justify-content:flex-end}}@media (max-width:940px){.footer .group-menu-footer{display:-webkit-box;display:-ms-flexbox;display:flex;-webkit-box-pack:center;-ms-flex-pack:center;justify-content:center}}.footer .group-menu-footer .menu-footer{width:33.3%}@media (min-width:580px){.footer .group-menu-footer .menu-footer{display:-webkit-box;display:-ms-flexbox;display:flex;-webkit-box-pack:center;-ms-flex-pack:center;justify-content:center;width:auto;margin:0 2rem}}.footer .group-menu-footer .menu-footer-title-list{color:#fff;font-weight:700;padding:0 1rem}.footer .group-menu-footer .menu-footer-list{display:-webkit-box;display:-ms-flexbox;display:flex;-webkit-box-orient:vertical;-webkit-box-direction:normal;-ms-flex-direction:column;flex-direction:column;padding:0}.footer .group-menu-footer .menu-footer-item{padding:0 1rem;list-style:none;margin-bottom:.5rem}.footer .group-menu-footer .menu-footer-item a{color:#fff;white-space:pre-wrap;text-decoration:none;font-weight:400;font-size:13px}.footer .group-menu-footer .menu-footer-item a:hover{color:#d0d5dd}.footer .group-submenu-footer{display:-webkit-box;display:-ms-flexbox;display:flex;-webkit-box-orient:vertical;-webkit-box-direction:normal;-ms-flex-direction:column;flex-direction:column}@media (min-width:1024px){.footer .group-submenu-footer{display:-webkit-box;display:-ms-flexbox;display:flex;-webkit-box-orient:horizontal;-webkit-box-direction:normal;-ms-flex-direction:row;flex-direction:row;-webkit-box-pack:justify;-ms-flex-pack:justify;justify-content:space-between;margin-top:4rem;margin-bottom:2rem}}.footer .group-submenu-footer .submenu-footer{margin-top:3rem}@media (min-width:1024px){.footer .group-submenu-footer .submenu-footer{display:-webkit-box;display:-ms-flexbox;display:flex;-webkit-box-align:center;-ms-flex-align:center;align-items:center;margin-top:0}}.footer .group-submenu-footer .submenu-footer-list{display:-webkit-box;display:-ms-flexbox;display:flex;-ms-flex-wrap:wrap;flex-wrap:wrap;-webkit-box-pack:center;-ms-flex-pack:center;justify-content:center;padding:0;width:100%}.footer .group-submenu-footer .submenu-footer-item{color:#98a2b3;font-size:13px;list-style:none;margin-bottom:1rem}@media (min-width:1024px){.footer .group-submenu-footer .submenu-footer-item{margin-bottom:0}}@media (min-width:580px){.footer .group-submenu-footer .submenu-footer-item:not(:last-child)::after{content:\"|\";display:inline-block;margin-left:1rem;margin-right:1rem}}.footer .group-submenu-footer .submenu-footer-item a{color:#98a2b3;text-decoration:none;font-size:13px;font-weight:400}.footer .group-submenu-footer .submenu-footer-item a:hover{color:#fff}.footer .group-submenu-footer .submenu-footer-item:not(:last-child):not(:first-child):not(:nth-child(3n))::after{content:\"|\";display:inline-block;margin-left:1rem;margin-right:1rem}.footer .menu-social-footer{padding:1rem 0 3rem 0}@media (min-width:1024px){.footer .menu-social-footer{padding:0}}.footer .menu-social-footer-list{display:-webkit-box;display:-ms-flexbox;display:flex;-webkit-box-pack:center;-ms-flex-pack:center;justify-content:center}.footer .menu-social-footer-item{margin:0 .5rem;text-decoration:none;color:#667085;background-color:#1d2939;padding:.5rem;border-radius:50%;display:-webkit-box;display:-ms-flexbox;display:flex;-webkit-box-align:center;-ms-flex-align:center;align-items:center;font-size:16px}.footer .menu-social-footer-item:hover{color:#fff;background-color:#667085}.hero{color:#fff;padding-bottom:2rem}.hero__content{padding-top:50px;background:none}@media (min-width:1024px){.hero__content{background-size:cover;background-position:center right;min-height:720px}}.hero-course__cta{display:-webkit-box;display:-ms-flexbox;display:flex;width:100%}.hero-course__cta .btn{width:100%;margin-bottom:1rem}@media (min-width:1024px){.hero-course__cta{width:100%}.hero-course__cta .btn{width:45%;margin-right:1rem}}@supports((-o-object-fit: cover) or (object-fit: cover)){.hero-certification .teachers-img img{-o-object-fit:cover;object-fit:cover;-o-object-position:top center;object-position:top center}}.partners{display:-webkit-box;display:-ms-flexbox;display:flex;-webkit-box-align:center;-ms-flex-align:center;align-items:center;-webkit-box-pack:center;-ms-flex-pack:center;justify-content:center;min-height:340px}.partners__title{margin-top:2rem;font-size:1.25rem;color:#98a2b3;font-weight:500}@media (min-width:1024px){.partners__title{font-size:1.5rem}}.partners__logos{display:-webkit-box;display:-ms-flexbox;display:flex;-ms-flex-wrap:wrap;flex-wrap:wrap;width:100%;-webkit-box-pack:justify;-ms-flex-pack:justify;justify-content:space-between}@media (min-width:1024px){.partners__logos{-ms-flex-wrap:nowrap;flex-wrap:nowrap}}.partners__logo{display:-webkit-box;display:-ms-flexbox;display:flex;-webkit-box-pack:center;-ms-flex-pack:center;justify-content:center;-webkit-box-align:center;-ms-flex-align:center;align-items:center;width:50%;min-height:100px}.partners__logo figure{max-width:135px;max-height:80px;margin:0}.partners__logo img{width:100%;height:auto;max-height:80px}@media (min-width:1024px){.partners__logo{min-height:150px}}.our-teachers{padding:25px 0}@media (min-width:1024px){.our-teachers{padding:50px 0}.our-teachers__info{padding-right:80px}}.our-teachers__pretitle{text-transform:uppercase;font-size:.75rem;font-weight:700;color:#101828}.our-teachers__title{font-size:2.25rem;font-weight:600}@media (min-width:1024px){.our-teachers__title{line-height:3.25rem}}.our-teachers__description{font-size:1.25rem;line-height:1.875rem;font-weight:400;color:#667085}.teacher-card{position:relative;display:-webkit-box;display:-ms-flexbox;display:flex;height:160px;width:160px;-webkit-box-orient:vertical;-webkit-box-direction:normal;-ms-flex-direction:column;flex-direction:column;-webkit-box-align:center;-ms-flex-align:center;align-items:center;-webkit-box-pack:center;-ms-flex-pack:center;justify-content:center;justify-items:center;margin:.4rem;z-index:1}@media (min-width:1024px){.teacher-card{margin:1rem;height:214px;width:214px}}.teacher-card::after{content:\"\";position:absolute;left:0;bottom:0;z-index:-1;display:block;height:inherit;width:inherit;border:2px solid #101828;background-color:#fff}.teacher-card::before{content:\"\";position:absolute;left:-5px;bottom:-5px;z-index:-1;display:block;height:inherit;width:inherit;background-color:#98a2b3}@media (min-width:1024px){.teacher-card::before{left:-15px;bottom:-15px}}.teacher-card.active::before{background:linear-gradient(44.85deg,#7a5af8 0%,#f63d68 94.38%)}.teacher-card__image{overflow:hidden;-o-object-fit:cover;object-fit:cover;display:-webkit-box;display:-ms-flexbox;display:flex;-webkit-box-pack:center;-ms-flex-pack:center;justify-content:center;margin:0 0 .5rem 0;border-radius:100%}.teacher-card__image img{height:60px;width:60px}.teacher-card__name{font-size:1rem;font-weight:500;line-height:1.875rem;color:#344054;margin:0 0 .1rem 0}@media (min-width:1024px){.teacher-card__name{font-size:1.25rem}}.teacher-card__position{margin:.5rem;font-size:.8125rem;line-height:1.25rem;font-weight:400;color:#667085;margin:0 0 .1rem 0}.teacher-card__business{margin:0;font-size:.75rem;line-height:1.125rem;font-weight:500;color:#475467;margin:0 0 .1rem 0}.users-ratings{-webkit-box-align:center;-ms-flex-align:center;align-items:center;background-image:url(static/public/images/asterisk.svg);background-repeat:no-repeat;background-position:-120px bottom;margin-bottom:10rem}.users-ratings__content{padding-top:6rem}.users-ratings__clain{margin-bottom:1.5rem}@media (min-width:1024px){.users-ratings__clain{width:80%;margin-bottom:7rem}}.users-ratings__pretitle{font-size:.75rem;line-height:1.0625rem;font-weight:700;color:#fff;text-transform:uppercase}.users-ratings__title{font-size:2.5rem;line-height:3.25rem;font-weight:600}.users-ratings__rating{font-size:1.25rem;line-height:1.875rem;font-weight:400;color:#fff}@media (min-width:1024px){.users-ratings__rating{font-size:1.5rem;line-height:2.25rem;font-weight:400}}.users-ratings__rating strong{font-weight:inherit;background-color:#7a5af8}.user{display:-webkit-box;display:-ms-flexbox;display:flex;-webkit-box-align:center;-ms-flex-align:center;align-items:center;color:#fff}.user__avatar{display:-webkit-box;display:-ms-flexbox;display:flex;width:48px;height:48px;margin-right:1rem;border-radius:100%;overflow:hidden}.user__avatar img{max-width:100%;height:auto}.user__name{margin:0;font-size:.875rem;line-height:1.25rem;font-weight:600}.user__position{margin:0;font-size:.8125rem;line-height:1.25rem;font-weight:400}.control-panel{position:relative;top:100px;width:90%;margin:0 auto;color:#fff;background-color:#1d2939;padding:1.5rem}@media (min-width:1024px){.control-panel{padding:3rem}}.control-panel__pretitle{font-size:.75rem;line-height:1.0625rem;font-weight:700;text-transform:uppercase}.control-panel__title{font-size:2rem;line-height:2.8125rem;font-weight:500;margin:0}.control-panel__description{font-size:1.25rem;line-height:1.875rem;font-weight:400}.control-panel__image{display:-webkit-box;display:-ms-flexbox;display:flex}@media (min-width:1024px){.control-panel__image{padding-right:3rem}}.control-panel__image img{max-width:100%;height:auto}.sectors{margin-bottom:4rem}.sectors .sectors-box{padding:2rem 1rem 1rem 1rem;text-align:center;border:1px solid #e1e1e1;width:90%}.sectors a.sectors-box:hover{background-color:#f2f4f7}.categories{margin-top:5rem;margin-bottom:5rem}.categories__title{margin:0;font-size:2rem;line-height:2.6rem;font-weight:600}@media (min-width:1024px){.categories__title{font-size:2.5rem;line-height:3.25rem}}.categories__list{margin-top:3rem}@media (min-width:1024px){.categories__list{margin-top:5rem}}.categories .category-card{display:-webkit-box;display:-ms-flexbox;display:flex;-webkit-box-align:center;-ms-flex-align:center;align-items:center;-webkit-box-pack:justify;-ms-flex-pack:justify;justify-content:space-between;width:100%;min-height:78px;padding-left:2rem;padding-right:1rem;color:#1d2939;border:1px solid #e4e7ec}.categories .category-card:not(:last-child){margin-left:1rem}.categories .category-card__icon{margin-right:1rem;-webkit-filter:brightness(0);filter:brightness(0);width:30px}.categories .category-card:hover{background-color:#1d2939;color:#fff}.categories .category-card:hover .category-card__icon{-webkit-filter:brightness(5);filter:brightness(5)}.banner-footer{position:relative;overflow:hidden;display:-webkit-box;display:-ms-flexbox;display:flex;-webkit-box-orient:vertical;-webkit-box-direction:normal;-ms-flex-direction:column;flex-direction:column;-webkit-box-pack:center;-ms-flex-pack:center;justify-content:center;min-height:368px;background-color:#1d2939}.banner-footer__content{position:relative;display:-webkit-box;display:-ms-flexbox;display:flex;-webkit-box-orient:vertical;-webkit-box-direction:normal;-ms-flex-direction:column;flex-direction:column;-webkit-box-align:center;-ms-flex-align:center;align-items:center;text-align:center;width:100vw}.banner-footer__content::before,.banner-footer__content::after{content:\"\";position:absolute;display:block;background-image:radial-gradient(50% 50% at center,rgba(122,90,248,.1176470588) 25%,transparent) , radial-gradient(50% 50% at center,rgba(246,61,104,.168627451) 20%,transparent)}.banner-footer__content::before{top:0;left:-30px;width:350px;height:350px;-webkit-transform:translate(-20%,-60%);transform:translate(-20%,-60%)}@media (min-width:1024px){.banner-footer__content::before{width:550px;height:550px;left:0}}.banner-footer__content::after{bottom:0;right:0;width:350px;height:350px;-webkit-transform:translate(40%,60%);transform:translate(40%,60%)}@media (min-width:1024px){.banner-footer__content::after{width:550px;height:550px}}.banner-footer__title{color:#fff;margin:0;font-size:1.75rem;line-height:2.5rem;font-weight:600}@media (min-width:1024px){.banner-footer__title{font-size:2.5rem;line-height:3.25rem;font-weight:500}}.banner-footer__description{color:#fff;padding:0 .4rem}@media (min-width:1024px){.banner-footer__description{width:50%;font-size:1.25rem;line-height:1.875rem;font-weight:400}}.accordion-course__collapse li:not(:last-child){border-bottom:1px solid #e4e7ec}:target:before{content:\"\";display:block;height:100px;margin:-100px 0 0}@supports((-o-object-fit: cover) or (object-fit: cover)){.teachers-card__avatar img{-o-object-fit:cover;object-fit:cover;-o-object-position:top center;object-position:top center}}@supports((-o-object-fit: cover) or (object-fit: cover)){.teacher-stats-and-info__avatar img{-o-object-fit:cover;object-fit:cover;-o-object-position:top center;object-position:top center}}@supports((-o-object-fit: cover) or (object-fit: cover)){.author-stats-and-info__avatar img{-o-object-fit:cover;object-fit:cover;-o-object-position:top center;object-position:top center}}.pagination .page-item:not(:last-child):not(:first-child){border:1px solid #d0d5dd}.pagination .page-item:last-child:not(.endless_page_current):hover{background-color:#f2f4f7}.pagination .page-item:first-child:not(.endless_page_current):hover{background-color:#f2f4f7}.pagination .page-item.active,.pagination .page-item:hover:not(:last-child):not(:first-child):not(.disabled){background:#000;color:#fff}@supports((-o-object-fit: cover) or (object-fit: cover)){.hero-career .teachers-img img{-o-object-fit:cover;object-fit:cover;-o-object-position:top center;object-position:top center}}.breadcrumb .breadcrumb-item:not(:last-child)::after{content:\"|\";margin:0 5px}.rgpd-becas__checkbox input:checked~.checkmarck::after{display:block}.rgpd-becas__checkbox input:checked~.checkmarck::before{display:block}#CookielawBanner{position:fixed;z-index:1000000;bottom:0;width:100%;background-color:#fff;-webkit-box-shadow:1rem 0 4rem -13px #101828;box-shadow:1rem 0 4rem -13px #101828}@supports((-o-object-fit: cover) or (object-fit: cover)){.authors-card__avatar img{-o-object-fit:cover;object-fit:cover;-o-object-position:top center;object-position:top center}}.bg-dark-grey{background-color:#101828}.flex{display:-webkit-box;display:-ms-flexbox;display:flex}.flex-col{-webkit-box-orient:vertical;-webkit-box-direction:normal;-ms-flex-direction:column;flex-direction:column}.flex-wrap{-ms-flex-wrap:wrap;flex-wrap:wrap}@media screen and (min-width:1024px){.flex-nowrap-lg{-ms-flex-wrap:nowrap;flex-wrap:nowrap}}.flex-auto{-webkit-box-flex:1;-ms-flex:1 1 auto;flex:1 1 auto}.justify-start{-webkit-box-pack:start;-ms-flex-pack:start;justify-content:flex-start}.justify-end{-webkit-box-pack:end;-ms-flex-pack:end;justify-content:flex-end}.justify-center{-webkit-box-pack:center;-ms-flex-pack:center;justify-content:center}.justify-between{-webkit-box-pack:justify;-ms-flex-pack:justify;justify-content:space-between}.items-center{-webkit-box-align:center;-ms-flex-align:center;align-items:center}.pr-0{padding-right:0}.px-10{padding-left:1.25rem;padding-right:1.25rem}@media screen and (min-width:768px){.pl-md-6{padding-left:.75rem}}.m-0{margin:0}.mr-4{margin-right:.5rem}.mb-4{margin-bottom:.5rem}.mb-6{margin-bottom:.75rem}.mb-10{margin-bottom:1.25rem}.ml-2{margin-left:.25rem}.mb-2rem{margin-bottom:2rem}.text-center{text-align:center}.text-white{color:#fff}.text-gradient{font-weight:800;background:linear-gradient(44.85deg,#7a5af8 0%,#f63d68 94.38%);-webkit-background-clip:text;-webkit-text-fill-color:rgba(0,0,0,0);color:#f1408a}.font-bold{font-weight:700}</style>\\n<!-- GTM Variables -->\\n<script>var dataLayer=[{\\'environment\\':\\'Live\\'}];var trackcmp_email=\\'\\';var user_is_authenticated=false;dataLayer.push({\\'user-role\\':\\'\\'});dataLayer.push({\\'active_subscription\\':false});dataLayer.push({\\'active_plan\\':\\'\\'});</script>\\n<!-- anti-flicker snippet (recommended)  -->\\n<script>(function(a,s,y,n,c,h,i,d,e){s.className+=\\' \\'+y;h.start=1*new Date;h.end=i=function(){s.className=s.className.replace(RegExp(\\' ?\\'+y),\\'\\')};(a[n]=a[n]||[]).hide=h;setTimeout(function(){i();h.end=null},c);h.timeout=c;})(window,document.documentElement,\\'async-hide\\',\\'dataLayer\\',100,{\\'GTM-NP7728\\':true});</script>\\n<!-- Google Tag Manager -->\\n<script>(function(w,d,s,l,i){w[l]=w[l]||[];w[l].push({\\'gtm.start\\':new Date().getTime(),event:\\'gtm.js\\'});var f=d.getElementsByTagName(s)[0],j=d.createElement(s),dl=l!=\\'dataLayer\\'?\\'&l=\\'+l:\\'\\';j.async=true;j.src=\\'//www.googletagmanager.com/gtm.js?id=\\'+i+dl;f.parentNode.insertBefore(j,f);})(window,document,\\'script\\',\\'dataLayer\\',\\'GTM-NP7728\\');</script>\\n<!-- End Google Tag Manager -->\\n</head>\\n<body class=\"\">\\n<header class=\"header bg-dark-grey\">\\n<div class=\"container header-container\">\\n<a href=\"/\">\\n<figure class=\"brand\">\\n<img class=\"logo\" src=\"/static/public/images/logo.svg\" alt=\"OpenWebinars\">\\n</figure>\\n</a>\\n<button id=\"menu\" class=\"btn btn-burger\">\\n<span class=\"icon-menu\"></span>\\n<span class=\"icon-x\"></span>\\n</button>\\n<nav class=\"menu\">\\n<ul class=\"menu__list\">\\n<li class=\"menu__item has-submenu\">\\n<a href=\"/cursos/\" data-item=\"cursos\">Cursos<span class=\"icon-chevron-right\"></span></a>\\n<div class=\"submenu\">\\n<h5 class=\"submenu__title\">Cursos por Categorías</h5>\\n<ul class=\"submenu__row\">\\n<li class=\"submenu__item pr-0\">\\n<a href=\"/cursos/cloud-computing/\">Cloud Computing</a>\\n</li>\\n<li class=\"submenu__item pr-0\">\\n<a href=\"/cursos/backend/\">Backend</a>\\n</li>\\n<li class=\"submenu__item pr-0\">\\n<a href=\"/cursos/blockchain/\">Blockchain</a>\\n</li>\\n<li class=\"submenu__item pr-0\">\\n<a href=\"/cursos/certificaciones-oficiales/\">Certificaciones oficiales</a>\\n</li>\\n<li class=\"submenu__item pr-0\">\\n<a href=\"/cursos/metodologias/\">Metodologías</a>\\n</li>\\n<li class=\"submenu__item pr-0\">\\n<a href=\"/cursos/drupal/\">Drupal</a>\\n</li>\\n<li class=\"submenu__item pr-0\">\\n<a href=\"/cursos/devops/\">DevOps</a>\\n</li>\\n<li class=\"submenu__item pr-0\">\\n<a href=\"/cursos/wordpress/\">WordPress</a>\\n</li>\\n<li class=\"submenu__item pr-0\">\\n<a href=\"/cursos/videojuegos/\">Videojuegos</a>\\n</li>\\n<li class=\"submenu__item pr-0\">\\n<a href=\"/cursos/bases-de-datos/\">Bases de datos</a>\\n</li>\\n<li class=\"submenu__item pr-0\">\\n<a href=\"/cursos/robotica/\">Robótica y Hardware</a>\\n</li>\\n<li class=\"submenu__item pr-0\">\\n<a href=\"/cursos/management/\">Management</a>\\n</li>\\n<li class=\"submenu__item pr-0\">\\n<a href=\"/cursos/ciberseguridad-ethical-hacking/\">Ciberseguridad</a>\\n</li>\\n<li class=\"submenu__item pr-0\">\\n<a href=\"/cursos/sistemas/\">Sistemas y Redes</a>\\n</li>\\n<li class=\"submenu__item pr-0\">\\n<a href=\"/cursos/herramientas/\">Herramientas</a>\\n</li>\\n<li class=\"submenu__item pr-0\">\\n<a href=\"/cursos/frontend/\">Frontend</a>\\n</li>\\n<li class=\"submenu__item pr-0\">\\n<a href=\"/cursos/big-data/\">Big Data</a>\\n</li>\\n<li class=\"submenu__item pr-0\">\\n<a href=\"/cursos/desarrollo-movil/\">Desarrollo de aplicaciones móviles</a>\\n</li>\\n<li class=\"submenu__item pr-0\">\\n<a href=\"/cursos/testing/\">Testing</a>\\n</li>\\n<li class=\"submenu__item pr-0\">\\n<a href=\"/cursos/ui/\">UX y UI</a>\\n</li>\\n</ul>\\n<a class=\"submenu__more-content\" href=\"/cursos\">Ver todos los cursos <span class=\"icon-arrow-right\"></span></a>\\n</div>\\n</li>\\n<li class=\"menu__item\"><a href=\"/carreras/\">Carreras<span class=\"icon-chevron-right\"></span></a></li>\\n<li class=\"menu__item has-submenu\">\\n<button data-item=\"sectores\">Sectores<span class=\"icon-chevron-right\"></span></button>\\n<ul class=\"submenu\">\\n<li class=\"submenu__item\">\\n<a href=\"/sectores/tecnologicas/\">Tecnologías de la información</a>\\n</li>\\n<li class=\"submenu__item\">\\n<a href=\"/sectores/consultoras/\">Consultoras</a>\\n</li>\\n<li class=\"submenu__item\">\\n<a href=\"/sectores/banca-y-seguros/\">Banca y seguros</a>\\n</li>\\n<li class=\"submenu__item\">\\n<a href=\"/sectores/organismos-publicos/\">Organismos públicos</a>\\n</li>\\n</ul>\\n</li>\\n<li class=\"menu__item\"><a href=\"/precios/\">Precios<span class=\"icon-chevron-right\"></span></a></li>\\n<li class=\"menu__item\"><a href=\"/blog/\">Blog<span class=\"icon-chevron-right\"></span></a></li>\\n<li class=\"menu__item has-submenu\">\\n<a data-item=\"recursos\" href=\"https://library.openwebinars.net/\">Recursos<span class=\"icon-chevron-right\"></span></a>\\n<ul class=\"submenu\">\\n<li class=\"submenu__item\">\\n<a href=\"https://library.openwebinars.net/casos-de-exito/\">Casos de estudio</a>\\n</li>\\n<li class=\"submenu__item\">\\n<a href=\"/becas/\">Becas</a>\\n</li>\\n<li class=\"submenu__item\">\\n<a href=\"https://talentotecnologico.fm/\" target=\"_blank\">Podcast</a>\\n</li>\\n<li class=\"submenu__item\">\\n<a href=\"https://library.openwebinars.net/cursos/\"> Workshops</a>\\n</li>\\n</ul>\\n</li>\\n</ul>\\n<div class=\"cta-buttons\">\\n<div id=\"search\" class=\"search-field\">\\n<div class=\"search-field__input\">\\n<form action=\"/buscador/\">\\n<input name=\"s\" type=\"text\">\\n</form>\\n</div>\\n<button class=\"search-field__button\">\\n<span class=\"icon-search\"></span>\\n</button>\\n</div>\\n<a href=\"/accounts/login/\" class=\"btn btn-lg btn-outline-light mr-4\">Iniciar sesión</a>\\n<a href=\"/precios/\" class=\"btn btn-lg btn-primary\">Comenzar</a>\\n</div>\\n</nav>\\n</div>\\n</header>\\n<main class=\"main\">\\n<section class=\"hero bg-dark-grey\">\\n<div class=\"container\">\\n<div class=\"flex hero__content justify-start items-center\" style=\"background-image: url(/static/public/images/hero-home.svg)\">\\n<div class=\"col-lg-6 col-xl-5\">\\n<h1 class=\"h1 font-bold text-gradient\">Formación tecnológica para llevar a tu equipo al siguiente nivel</h1>\\n<p class=\"h5\">Comprueba sin compromiso por qué somos la plataforma líder en reskilling y upskilling en el ámbito empresarial.</p>\\n<div class=\"hero-course__cta row\">\\n<a class=\"btn btn--flex justify-center btn-xl btn-outline-light\" href=\"/precios/\">Empresas <span class=\"icon-arrow-right ml-2\"></span></a>\\n<a class=\"btn btn-xl btn-primary\" href=\"/cursos/\">Ver cursos</a>\\n</div>\\n</div>\\n</div>\\n</div>\\n</section>\\n<section class=\"partners\">\\n<div class=\"container\">\\n<div class=\"flex flex-col partners__content justify-start items-center\">\\n<h2 class=\"partners__title h4\">Somos el partner de formación de:</h2>\\n<ul class=\"partners__logos\">\\n<li class=\"partners__logo\">\\n<figure>\\n<img src=\"/static/public/images/logos/banca/redsys.svg\" alt=\"Redsys\">\\n</figure>\\n</li>\\n<li class=\"partners__logo\">\\n<figure>\\n<img src=\"/static/public/images/logos/tecnologicas/telefonica.svg\" alt=\"Telefonica\">\\n</figure>\\n</li>\\n<li class=\"partners__logo\">\\n<figure>\\n<img src=\"/static/public/images/logos/consultoras/accenture.svg\" alt=\"Accenture\">\\n</figure>\\n</li>\\n<li class=\"partners__logo\">\\n<figure>\\n<img src=\"/static/public/images/logos/consultoras/Ibermatica.svg\" alt=\"Ibermatica\">\\n</figure>\\n</li>\\n</ul>\\n</div>\\n</div>\\n</section>\\n<section class=\"our-teachers\">\\n<div class=\"container\">\\n<div class=\"flex flex-wrap our-teachers__content justify-center items-center mb-10\">\\n<div class=\"our-teachers__info col-lg-6 col-xl-5\">\\n<h2 class=\"our-teachers__pretitle\">Nuestros profesores</h2>\\n<div class=\"our-teachers__title text-gradient\">Nuestros profesores son expertos que se enfrentan a diario a los mismos problemas que tus equipos</div>\\n<p class=\"our-teachers__description\">La calidad de nuestros cursos radica en que reflejan el mundo laboral con fidelidad. Estudiamos casos prácticos y situaciones reales y las integramos en los itinerarios formativos a medida de tu empresa.</p>\\n</div>\\n<div class=\"col-lg-6 col-xl-5\">\\n<div class=\"row justify-center\">\\n<div class=\"col-6 flex justify-end\">\\n<div class=\"teacher-card active\">\\n<figure class=\"teacher-card__image\">\\n<img src=\"/static/public/images/teachers/xalexsoto.jpg.pagespeed.ic.nVdnMaO-Vv.jpg\" alt=\"Álex Soto\" width=\"460\" height=\"460\">\\n</figure>\\n<h3 class=\"teacher-card__name\">Álex Soto</h3>\\n<p class=\"teacher-card__position\">Java champion</p>\\n<p class=\"teacher-card__business\">Red Hat</p>\\n</div>\\n</div>\\n<div class=\"col-6 flex justify-start\">\\n<div class=\"teacher-card\">\\n<figure class=\"teacher-card__image\">\\n<img src=\"/static/public/images/teachers/xmamoreno.jpg.pagespeed.ic.UmVg4kdNzt.jpg\" alt=\"Pablo Fernández\" width=\"200\" height=\"200\">\\n</figure>\\n<h3 class=\"teacher-card__name\">Miguel Á. Moreno</h3>\\n<p class=\"teacher-card__position\">Engineering manager</p>\\n<p class=\"teacher-card__business\">Telefónica</p>\\n</div>\\n</div>\\n<div class=\"col-6 flex justify-end\">\\n<div class=\"teacher-card\">\\n<figure class=\"teacher-card__image\">\\n<img src=\"/static/public/images/teachers/xtamarafueyo.jpg.pagespeed.ic.E-RDEwXkgm.jpg\" alt=\"Tamara del Fueyo\" width=\"200\" height=\"200\">\\n</figure>\\n<h3 class=\"teacher-card__name\">Tamara del Fueyo</h3>\\n<p class=\"teacher-card__position\">Experta en Redes</p>\\n<p class=\"teacher-card__business\">Kyndryl</p>\\n</div>\\n</div>\\n<div class=\"col-6 flex justify-start\">\\n<div class=\"teacher-card\">\\n<figure class=\"teacher-card__image\">\\n<img src=\"/static/public/images/teachers/xpablo-fernandez.jpg.pagespeed.ic.P-1GBCAIX6.jpg\" alt=\"Pablo Fernández\" width=\"256\" height=\"256\">\\n</figure>\\n<h3 class=\"teacher-card__name\">Pablo Fernández</h3>\\n<p class=\"teacher-card__position\"> Front End Team Lead</p>\\n<p class=\"teacher-card__business\">Idealista</p>\\n</div>\\n</div>\\n</div>\\n</div>\\n</div>\\n</div>\\n</section>\\n<section class=\"users-ratings bg-dark-grey\" style=\"background-image: url(/static/public/images/asterisk.svg)\">\\n<div class=\"container\">\\n<div class=\"users-ratings__content row items-center\">\\n<div class=\"col-lg-6\">\\n<div class=\"users-ratings__clain\">\\n<h2 class=\"users-ratings__pretitle\">Valoraciones de estudiantes:</h2>\\n<div class=\"users-ratings__title text-gradient\">Un 93% de alumnos nos dan el sobresaliente</div>\\n</div>\\n</div>\\n<div class=\"col-lg-6\">\\n<p class=\"users-ratings__rating\">En sólo <strong>6 meses</strong> hemos alcanzado el 75% de nuestro plan de formación anual. OpenWebinars ha supuesto un apoyo clave para llevar nuestro modelo formativo a un <strong>nivel superior.</strong></p>\\n<div class=\"user\">\\n<figure class=\"user__avatar\">\\n<img src=\"/static/public/images/avatars/xM-Fajardo.png.pagespeed.ic.NGZd3ODSyp.png\" alt=\"Marta Fajardo\" width=\"440\" height=\"440\">\\n</figure>\\n<div>\\n<h5 class=\"user__name\">Marta Fajardo</h5>\\n<p class=\"user__position\">Directora de Desarrollo de Talento</p>\\n</div>\\n</div>\\n</div>\\n</div>\\n<div class=\"control-panel col-12 row items-center\">\\n<div class=\"col-lg-6\">\\n<figure class=\"control-panel__image\">\\n<img src=\"/static/public/images/xpanel-fake.png.pagespeed.ic.tKxxitLml4.png\" alt=\"Panel\" width=\"532\" height=\"316\">\\n</figure>\\n</div>\\n<div class=\"col-lg-6\">\\n<h2 class=\"control-panel__pretitle text-gradient\">Control total del rendimiento</h2>\\n<div class=\"control-panel__title\">Toma decisiones sobre el talento de tu empresa basadas en nuestros paneles de datos</div>\\n<p class=\"control-panel__description\">Nuestra metodología pasa por ofrecerte control total sobre el rendimiento y el impacto que tienen las formaciones sobre tus equipos. Objetiviza tu inversión en formación con reportes en tiempo real.</p>\\n</div>\\n</div>\\n</div>\\n</section>\\n<section class=\"sectors\">\\n<div class=\"container\">\\n<div class=\"flex flex-col items-center\">\\n<h2 class=\"pretitle text-gradient\">TENEMOS LA SOLUCIÓN PARA TU OBJETIVO</h2>\\n<div class=\"h3 m-0 text-center font-bold\">Cada compañía tiene sus propios retos</div>\\n<p class=\"h5 text-center col-lg-8\">OpenWebinars ofrece itinerarios formativos para los principales sectores y te permite crear los tuyos propios a medida.</p>\\n</div>\\n<div class=\"row flex-nowrap-lg  justify-between px-10\">\\n<div class=\"col-6 col-lg-3 mb-2rem  flex justify-center\">\\n<a href=\"/sectores/organismos-publicos/\" class=\"sectors-box\">\\n<figure>\\n<img src=\"/static/public/images/icons/noun-city.svg\" alt=\"\">\\n</figure>\\n<h3>Organismos e instituciones</h3>\\n</a>\\n</div>\\n<div class=\"col-6 col-lg-3 mb-2rem flex justify-center\">\\n<a href=\"/sectores/tecnologicas/\" class=\"sectors-box\">\\n<figure>\\n<img src=\"/static/public/images/icons/noun-report.svg\" alt=\"\">\\n</figure>\\n<h3>Tecnología</h3>\\n</a>\\n</div>\\n<div class=\"col-6 col-lg-3 mb-2rem flex justify-center\">\\n<a href=\"/sectores/banca-y-seguros/\" class=\"sectors-box\">\\n<figure>\\n<img src=\"/static/public/images/icons/noun-banking.svg\" alt=\"\">\\n</figure>\\n<h3>Banca y Seguros</h3>\\n</a>\\n</div>\\n<!--       <div class=\"col-6 col-lg-3 flex justify-center\">\\n        <a class=\"sectors-box\">\\n          <figure>\\n            <img src=\"/static/public/images/icons/noun-banking-security.svg\" alt=\"\">\\n          </figure>\\n          <h3>Aseguradoras</h3>\\n        </a>\\n      </div> -->\\n<div class=\"col-6 col-lg-3 mb-2rem flex justify-center\">\\n<a href=\"/sectores/consultoras/\" class=\"sectors-box\">\\n<figure>\\n<img src=\"/static/public/images/icons/noun-computer.svg\" alt=\"\">\\n</figure>\\n<h3>Consultoras</h3>\\n</a>\\n</div>\\n</div>\\n</div>\\n</section>\\n<section class=\"categories\">\\n<div class=\"container\">\\n<div class=\"row justify-between\">\\n<div class=\"col-lg-6\">\\n<h2 class=\"pretitle text-gradient\">Los mejores cursos para tu equipo </h2>\\n<div class=\"categories__title\">Categorías de formación</div>\\n</div>\\n</div>\\n<div class=\"tab-content\" data-panel=\"category-tabs\">\\n<div id=\"tab-categories\" class=\"tab-pane categories__list active show\">\\n<div class=\"row\">\\n<div class=\"col-12 col-lg-3 flex pl-md-6 mb-6\">\\n<a href=\"/cursos/cloud-computing/\" class=\"category-card\">\\n<figure class=\"category-card__icon img-responsive\">\\n<img src=\"https://dc722jrlp2zu8.cloudfront.net/media/academy/scope/3-cloud-computing.svg\" alt=\"Cloud Computing\">\\n</figure>\\n<h3 class=\"flex-auto\">Cloud Computing</h3>\\n<span class=\"icon-chevron-right text-white\"></span>\\n</a>\\n</div>\\n<div class=\"col-12 col-lg-3 flex pl-md-6 mb-6\">\\n<a href=\"/cursos/backend/\" class=\"category-card\">\\n<figure class=\"category-card__icon img-responsive\">\\n<img src=\"https://dc722jrlp2zu8.cloudfront.net/media/academy/scope/0-backend.svg\" alt=\"Backend\">\\n</figure>\\n<h3 class=\"flex-auto\">Backend</h3>\\n<span class=\"icon-chevron-right text-white\"></span>\\n</a>\\n</div>\\n<div class=\"col-12 col-lg-3 flex pl-md-6 mb-6\">\\n<a href=\"/cursos/blockchain/\" class=\"category-card\">\\n<figure class=\"category-card__icon img-responsive\">\\n<img src=\"https://dc722jrlp2zu8.cloudfront.net/media/academy/scope/15-Cloudcomputing.svg\" alt=\"Blockchain\">\\n</figure>\\n<h3 class=\"flex-auto\">Blockchain</h3>\\n<span class=\"icon-chevron-right text-white\"></span>\\n</a>\\n</div>\\n<div class=\"col-12 col-lg-3 flex pl-md-6 mb-6\">\\n<a href=\"/cursos/certificaciones-oficiales/\" class=\"category-card\">\\n<figure class=\"category-card__icon img-responsive\">\\n<img src=\"https://dc722jrlp2zu8.cloudfront.net/media/academy/scope/certificate.svg\" alt=\"Certificaciones oficiales\">\\n</figure>\\n<h3 class=\"flex-auto\">Certificaciones oficiales</h3>\\n<span class=\"icon-chevron-right text-white\"></span>\\n</a>\\n</div>\\n<div class=\"col-12 col-lg-3 flex pl-md-6 mb-6\">\\n<a href=\"/cursos/metodologias/\" class=\"category-card\">\\n<figure class=\"category-card__icon img-responsive\">\\n<img src=\"https://dc722jrlp2zu8.cloudfront.net/media/academy/scope/metodologia.svg\" alt=\"Metodologías\">\\n</figure>\\n<h3 class=\"flex-auto\">Metodologías</h3>\\n<span class=\"icon-chevron-right text-white\"></span>\\n</a>\\n</div>\\n<div class=\"col-12 col-lg-3 flex pl-md-6 mb-6\">\\n<a href=\"/cursos/drupal/\" class=\"category-card\">\\n<figure class=\"category-card__icon img-responsive\">\\n<img src=\"https://dc722jrlp2zu8.cloudfront.net/media/academy/scope/12-drupal8-logo.svg\" alt=\"Drupal\">\\n</figure>\\n<h3 class=\"flex-auto\">Drupal</h3>\\n<span class=\"icon-chevron-right text-white\"></span>\\n</a>\\n</div>\\n<div class=\"col-12 col-lg-3 flex pl-md-6 mb-6\">\\n<a href=\"/cursos/devops/\" class=\"category-card\">\\n<figure class=\"category-card__icon img-responsive\">\\n<img src=\"https://dc722jrlp2zu8.cloudfront.net/media/academy/scope/5-devops.svg\" alt=\"DevOps\">\\n</figure>\\n<h3 class=\"flex-auto\">DevOps</h3>\\n<span class=\"icon-chevron-right text-white\"></span>\\n</a>\\n</div>\\n<div class=\"col-12 col-lg-3 flex pl-md-6 mb-6\">\\n<a href=\"/cursos/wordpress/\" class=\"category-card\">\\n<figure class=\"category-card__icon img-responsive\">\\n<img src=\"https://dc722jrlp2zu8.cloudfront.net/media/academy/scope/10-logo-wordpress-color.svg\" alt=\"WordPress\">\\n</figure>\\n<h3 class=\"flex-auto\">WordPress</h3>\\n<span class=\"icon-chevron-right text-white\"></span>\\n</a>\\n</div>\\n<div class=\"col-12 col-lg-3 flex pl-md-6 mb-6\">\\n<a href=\"/cursos/videojuegos/\" class=\"category-card\">\\n<figure class=\"category-card__icon img-responsive\">\\n<img src=\"https://dc722jrlp2zu8.cloudfront.net/media/academy/scope/13-mobile-game.svg\" alt=\"Videojuegos\">\\n</figure>\\n<h3 class=\"flex-auto\">Videojuegos</h3>\\n<span class=\"icon-chevron-right text-white\"></span>\\n</a>\\n</div>\\n<div class=\"col-12 col-lg-3 flex pl-md-6 mb-6\">\\n<a href=\"/cursos/bases-de-datos/\" class=\"category-card\">\\n<figure class=\"category-card__icon img-responsive\">\\n<img src=\"https://dc722jrlp2zu8.cloudfront.net/media/academy/scope/9-data-base.svg\" alt=\"Bases de datos\">\\n</figure>\\n<h3 class=\"flex-auto\">Bases de datos</h3>\\n<span class=\"icon-chevron-right text-white\"></span>\\n</a>\\n</div>\\n<div class=\"col-12 col-lg-3 flex pl-md-6 mb-6\">\\n<a href=\"/cursos/robotica/\" class=\"category-card\">\\n<figure class=\"category-card__icon img-responsive\">\\n<img src=\"https://dc722jrlp2zu8.cloudfront.net/media/academy/scope/11-cpu.svg\" alt=\"Robótica y Hardware\">\\n</figure>\\n<h3 class=\"flex-auto\">Robótica y Hardware</h3>\\n<span class=\"icon-chevron-right text-white\"></span>\\n</a>\\n</div>\\n<div class=\"col-12 col-lg-3 flex pl-md-6 mb-6\">\\n<a href=\"/cursos/management/\" class=\"category-card\">\\n<figure class=\"category-card__icon img-responsive\">\\n<img src=\"https://dc722jrlp2zu8.cloudfront.net/media/academy/scope/14-gestion-de-proyectos.svg\" alt=\"Management\">\\n</figure>\\n<h3 class=\"flex-auto\">Management</h3>\\n<span class=\"icon-chevron-right text-white\"></span>\\n</a>\\n</div>\\n<div class=\"col-12 col-lg-3 flex pl-md-6 mb-6\">\\n<a href=\"/cursos/ciberseguridad-ethical-hacking/\" class=\"category-card\">\\n<figure class=\"category-card__icon img-responsive\">\\n<img src=\"https://dc722jrlp2zu8.cloudfront.net/media/academy/scope/8-Web-Browser-protection.svg\" alt=\"Ciberseguridad\">\\n</figure>\\n<h3 class=\"flex-auto\">Ciberseguridad</h3>\\n<span class=\"icon-chevron-right text-white\"></span>\\n</a>\\n</div>\\n<div class=\"col-12 col-lg-3 flex pl-md-6 mb-6\">\\n<a href=\"/cursos/sistemas/\" class=\"category-card\">\\n<figure class=\"category-card__icon img-responsive\">\\n<img src=\"https://dc722jrlp2zu8.cloudfront.net/media/academy/scope/2-sistemas.svg\" alt=\"Sistemas y Redes\">\\n</figure>\\n<h3 class=\"flex-auto\">Sistemas y Redes</h3>\\n<span class=\"icon-chevron-right text-white\"></span>\\n</a>\\n</div>\\n<div class=\"col-12 col-lg-3 flex pl-md-6 mb-6\">\\n<a href=\"/cursos/herramientas/\" class=\"category-card\">\\n<figure class=\"category-card__icon img-responsive\">\\n<img src=\"https://dc722jrlp2zu8.cloudfront.net/media/academy/scope/herramientas.svg\" alt=\"Herramientas\">\\n</figure>\\n<h3 class=\"flex-auto\">Herramientas</h3>\\n<span class=\"icon-chevron-right text-white\"></span>\\n</a>\\n</div>\\n<div class=\"col-12 col-lg-3 flex pl-md-6 mb-6\">\\n<a href=\"/cursos/frontend/\" class=\"category-card\">\\n<figure class=\"category-card__icon img-responsive\">\\n<img src=\"https://dc722jrlp2zu8.cloudfront.net/media/academy/scope/1-frontend.svg\" alt=\"Frontend\">\\n</figure>\\n<h3 class=\"flex-auto\">Frontend</h3>\\n<span class=\"icon-chevron-right text-white\"></span>\\n</a>\\n</div>\\n<div class=\"col-12 col-lg-3 flex pl-md-6 mb-6\">\\n<a href=\"/cursos/big-data/\" class=\"category-card\">\\n<figure class=\"category-card__icon img-responsive\">\\n<img src=\"https://dc722jrlp2zu8.cloudfront.net/media/academy/scope/4-bigdata.svg\" alt=\"Big Data\">\\n</figure>\\n<h3 class=\"flex-auto\">Big Data</h3>\\n<span class=\"icon-chevron-right text-white\"></span>\\n</a>\\n</div>\\n<div class=\"col-12 col-lg-3 flex pl-md-6 mb-6\">\\n<a href=\"/cursos/desarrollo-movil/\" class=\"category-card\">\\n<figure class=\"category-card__icon img-responsive\">\\n<img src=\"https://dc722jrlp2zu8.cloudfront.net/media/academy/scope/6-mobile-app.svg\" alt=\"Desarrollo de aplicaciones móviles\">\\n</figure>\\n<h3 class=\"flex-auto\">Desarrollo de aplicaciones móviles</h3>\\n<span class=\"icon-chevron-right text-white\"></span>\\n</a>\\n</div>\\n<div class=\"col-12 col-lg-3 flex pl-md-6 mb-6\">\\n<a href=\"/cursos/testing/\" class=\"category-card\">\\n<figure class=\"category-card__icon img-responsive\">\\n<img src=\"https://dc722jrlp2zu8.cloudfront.net/media/academy/scope/testing-logo.svg\" alt=\"Testing\">\\n</figure>\\n<h3 class=\"flex-auto\">Testing</h3>\\n<span class=\"icon-chevron-right text-white\"></span>\\n</a>\\n</div>\\n<div class=\"col-12 col-lg-3 flex pl-md-6 mb-6\">\\n<a href=\"/cursos/ui/\" class=\"category-card\">\\n<figure class=\"category-card__icon img-responsive\">\\n<img src=\"https://dc722jrlp2zu8.cloudfront.net/media/academy/scope/ui-categoria.svg\" alt=\"UX y UI\">\\n</figure>\\n<h3 class=\"flex-auto\">UX y UI</h3>\\n<span class=\"icon-chevron-right text-white\"></span>\\n</a>\\n</div>\\n</div>\\n</div>\\n</div>\\n</div>\\n</section>\\n<section class=\"banner-footer\">\\n<div class=\"banner-footer__content container\">\\n<h4 class=\"banner-footer__title\">Contacta con nosotros</h4>\\n<p class=\"banner-footer__description\">OpenWebinars ofrece itinerarios formativos para los principales sectores y te permite crear los tuyos propios a medida.</p>\\n<a href=\"/contacto/\" class=\"btn btn-primary\">Contactar</a>\\n</div>\\n</section>\\n</main>\\n<footer class=\"footer bg-dark-grey\">\\n<div class=\"container footer-container\">\\n<figure class=\"brand\">\\n<img class=\"logo\" src=\"/static/public/images/logo.svg\" alt=\"OpenWebinars\">\\n</figure>\\n<div class=\"group-menu-footer\">\\n<nav class=\"menu-footer\">\\n<ul class=\"menu-footer-list\">\\n<li class=\"menu-footer-item menu-footer-title-list mb-4\">Soluciones</li>\\n<li class=\"menu-footer-item\"><a href=\"/sectores/banca-y-seguros/\">Banca y seguros</a></li>\\n<li class=\"menu-footer-item\"><a href=\"/sectores/consultoras/\">Consultoras</a></li>\\n<li class=\"menu-footer-item\"><a href=\"/sectores/tecnologicas/\">Empresas Tecnológicas</a></li>\\n<li class=\"menu-footer-item\"><a href=\"/sectores/organismos-publicos/\">Organismos públicos</a></li>\\n</ul>\\n</nav>\\n<nav class=\"menu-footer\">\\n<ul class=\"menu-footer-list\">\\n<li class=\"menu-footer-item menu-footer-title-list mb-4\">Productos</li>\\n<li class=\"menu-footer-item\"><a href=\"/cursos/\">Cursos</a></li>\\n<li class=\"menu-footer-item\"><a href=\"/carreras/\">Carreras</a></li>\\n<li class=\"menu-footer-item\"><a href=\"/cursos/?kind=taller\">Talleres</a></li>\\n<li class=\"menu-footer-item\"><a href=\"/cursos/?kind=lab\">Laboratorios</a></li>\\n<li class=\"menu-footer-item\"><a href=\"/becas/\">Becas</a></li>\\n</ul>\\n</nav>\\n<nav class=\"menu-footer\">\\n<ul class=\"menu-footer-list\">\\n<li class=\"menu-footer-title-list mb-4\"><span>Acerca de</span></li>\\n<li class=\"menu-footer-item\"><a href=\"/nosotros/\">Nosotros</a></li>\\n<li class=\"menu-footer-item\"><a href=\"/profesores/\">Profesores</a></li>\\n<li class=\"menu-footer-item\"><a href=\"/contacto/\">Contacta</a></li>\\n<li class=\"menu-footer-item\"><a href=\"https://library.openwebinars.net/\">Recursos</a></li>\\n<li class=\"menu-footer-item\"><a href=\"/blog/?ref=footer\">Blog</a></li>\\n<li class=\"menu-footer-item\"><a href=\"/opiniones/?ref=footer\">Opiniones</a></li>\\n</ul>\\n</nav>\\n</div>\\n</div>\\n<div class=\"container group-submenu-footer\">\\n<nav class=\"submenu-footer\">\\n<ul class=\"submenu-footer-list\">\\n<li class=\"submenu-footer-item\">&copy; 2023 OpenWebinars S.L. todos los derechos reservados</li>\\n<li class=\"submenu-footer-item\"><a href=\"/sitemap/\">Mapa del sitio </a></li>\\n<li class=\"submenu-footer-item\"><a href=\"/terminos-condiciones/\">Términos y Condiciones de Uso</a></li>\\n<li class=\"submenu-footer-item\"><a href=\"/politica-privacidad/\">Política de Privacidad</a> </li>\\n<li class=\"submenu-footer-item\"> <a href=\"/aviso-legal-cookies/\">Cookies</a></li>\\n</ul>\\n</nav>\\n<nav class=\"menu-social-footer\">\\n<ul class=\"menu-social-footer-list\">\\n<li><a class=\"menu-social-footer-item\" target=\"_blank\" href=\"https://www.facebook.com/openwebinars\" rel=\"noreferrer\"><span class=\"icon-facebook\"></span></a></li>\\n<li><a class=\"menu-social-footer-item\" target=\"_blank\" href=\"https://twitter.com/openwebinars\" rel=\"noreferrer\" rel=\"noreferrer\"><span class=\"icon-twitter\"></span></a></li>\\n<li><a class=\"menu-social-footer-item\" target=\"_blank\" href=\"https://www.instagram.com/openwebinarsnet/\" rel=\"noreferrer\" rel=\"noreferrer\"><span class=\"icon-instagram\"></span></a></li>\\n<li><a class=\"menu-social-footer-item\" target=\"_blank\" href=\"https://es.linkedin.com/company/openwebinars\" rel=\"noreferrer\" rel=\"noreferrer\"><span class=\"icon-linkedin\"></span></a></li>\\n</ul>\\n</nav>\\n</div>\\n</footer>\\n<script defer src=\"/static/js/cookielaw.min.js.pagespeed.jm.iVxWmuxUaK.js\"></script>\\n<script src=\"/static/public/js/main.js?rev=34170ad3a\"></script>\\n<script>function setCookie(cname,cvalue,exdays){var d=new Date();d.setTime(d.getTime()+(exdays*24*60*60*1000));var expires=\"expires=\"+d.toUTCString();document.cookie=cname+\"=\"+cvalue+\";\"+expires+\";path=/\";}function getCookie(cname){var name=cname+\"=\";var decodedCookie=decodeURIComponent(document.cookie);var ca=decodedCookie.split(\\';\\');for(var i=0;i<ca.length;i++){var c=ca[i];while(c.charAt(0)==\\' \\'){c=c.substring(1);}if(c.indexOf(name)==0){return c.substring(name.length,c.length);}}return\"\";}function op(e,url){e.stopPropagation();window.location=url;}function localStorageSupport(){return((\\'localStorage\\'in window)&&window[\\'localStorage\\']!==null)}function sessionStorageSupport(){return((\\'sessionStorage\\'in window)&&window[\\'sessionStorage\\']!==null)}(function(){if(localStorageSupport()&&localStorage.queue){queue=JSON.parse(localStorage.queue)\\n$.ajax({url:\\'/tracker\\',method:\"PUT\",data:queue}).done(function(data){console.debug(queue.action+\\'@\\'+queue.current+\\'=\\'+data)})\\nlocalStorage.queue=\\'\\'}})()</script>\\n<!-- Google Tag Manager (noscript) -->\\n<noscript><iframe src=\"//www.googletagmanager.com/ns.html?id=GTM-NP7728\" height=\"0\" width=\"0\" style=\"display:none;visibility:hidden\"></iframe></noscript>\\n<!-- End Google Tag Manager (noscript) -->\\n<!-- Mautic (pixel hack) -->\\n<noscript><img src=\"https://mautic.openwebinars.net/mtracking.gif\" alt=\"Mautic Pixel\" height=\"0\" width=\"0\" style=\"display:none;visibility:hidden\" data-pagespeed-no-defer></noscript>\\n<!-- End Mautic (pixel hack) -->\\n<div id=\"CookielawBanner\">\\n<div class=\"container\">\\n<p class=\"text-center\">\\n<small>Las cookies nos permiten ofrecer nuestros servicios. Al utilizar nuestros servicios, aceptas el uso que hacemos de las cookies. <a href=\"/aviso-legal-cookies/\" title=\"Aviso de Cookies\">Más Información</a>.</small>\\n<button type=\"button\" class=\"btn btn-primary btn-sm\" onclick=\"Cookielaw.createCookielawCookie()\">Aceptar</button>\\n</p>\\n</div>\\n</div>\\n<script>window.setTimeout(function(){_$(\\'#CookielawBanner\\').style.display=\\'none\\'},10000);</script>\\n<noscript class=\"psa_add_styles\"><link rel=\"stylesheet\" type=\"text/css\" href=\"/static/public/css/A.main.css,qrev=34170ad3a.pagespeed.cf.uStyNcUeFe.css\"/><style>.async-hide{opacity:0!important}</style></noscript><script data-pagespeed-no-defer>(function(){function b(){var a=window,c=e;if(a.addEventListener)a.addEventListener(\"load\",c,!1);else if(a.attachEvent)a.attachEvent(\"onload\",c);else{var d=a.onload;a.onload=function(){c.call(this);d&&d.call(this)}}};var f=!1;function e(){if(!f){f=!0;for(var a=document.getElementsByClassName(\"psa_add_styles\"),c=0,d;d=a[c];++c)if(\"NOSCRIPT\"==d.nodeName){var k=document.createElement(\"div\");k.innerHTML=d.textContent;document.body.appendChild(k)}}}function g(){var a=window.requestAnimationFrame||window.webkitRequestAnimationFrame||window.mozRequestAnimationFrame||window.oRequestAnimationFrame||window.msRequestAnimationFrame||null;a?a(function(){window.setTimeout(e,0)}):b()}\\nvar h=[\"pagespeed\",\"CriticalCssLoader\",\"Run\"],l=this;h[0]in l||!l.execScript||l.execScript(\"var \"+h[0]);for(var m;h.length&&(m=h.shift());)h.length||void 0===g?l[m]?l=l[m]:l=l[m]={}:l[m]=g;})();\\npagespeed.CriticalCssLoader.Run();</script></body>\\n</html>'"
      ]
     },
     "execution_count": 6,
     "metadata": {},
     "output_type": "execute_result"
    }
   ],
   "source": [
    "datos"
   ]
  },
  {
   "cell_type": "code",
   "execution_count": 7,
   "metadata": {
    "id": "q_SoHmiIC7zZ",
    "outputId": "b318e5a6-57e6-4332-dd0b-ed6d3bcbd690"
   },
   "outputs": [
    {
     "name": "stdout",
     "output_type": "stream",
     "text": [
      "/\n",
      "/cursos/\n",
      "/cursos/cloud-computing/\n",
      "/cursos/backend/\n",
      "/cursos/blockchain/\n",
      "/cursos/certificaciones-oficiales/\n",
      "/cursos/metodologias/\n",
      "/cursos/drupal/\n",
      "/cursos/devops/\n",
      "/cursos/wordpress/\n",
      "/cursos/videojuegos/\n",
      "/cursos/bases-de-datos/\n",
      "/cursos/robotica/\n",
      "/cursos/management/\n",
      "/cursos/ciberseguridad-ethical-hacking/\n",
      "/cursos/sistemas/\n",
      "/cursos/herramientas/\n",
      "/cursos/frontend/\n",
      "/cursos/big-data/\n",
      "/cursos/desarrollo-movil/\n",
      "/cursos/testing/\n",
      "/cursos/ui/\n",
      "/cursos\n",
      "/carreras/\n",
      "/sectores/tecnologicas/\n",
      "/sectores/consultoras/\n",
      "/sectores/banca-y-seguros/\n",
      "/sectores/organismos-publicos/\n",
      "/precios/\n",
      "/blog/\n",
      "https://library.openwebinars.net/\n",
      "https://library.openwebinars.net/casos-de-exito/\n",
      "/becas/\n",
      "https://talentotecnologico.fm/\n",
      "https://library.openwebinars.net/cursos/\n",
      "/accounts/login/\n",
      "/precios/\n",
      "/precios/\n",
      "/cursos/\n",
      "/sectores/organismos-publicos/\n",
      "/sectores/tecnologicas/\n",
      "/sectores/banca-y-seguros/\n",
      "/sectores/consultoras/\n",
      "/cursos/cloud-computing/\n",
      "/cursos/backend/\n",
      "/cursos/blockchain/\n",
      "/cursos/certificaciones-oficiales/\n",
      "/cursos/metodologias/\n",
      "/cursos/drupal/\n",
      "/cursos/devops/\n",
      "/cursos/wordpress/\n",
      "/cursos/videojuegos/\n",
      "/cursos/bases-de-datos/\n",
      "/cursos/robotica/\n",
      "/cursos/management/\n",
      "/cursos/ciberseguridad-ethical-hacking/\n",
      "/cursos/sistemas/\n",
      "/cursos/herramientas/\n",
      "/cursos/frontend/\n",
      "/cursos/big-data/\n",
      "/cursos/desarrollo-movil/\n",
      "/cursos/testing/\n",
      "/cursos/ui/\n",
      "/contacto/\n",
      "/sectores/banca-y-seguros/\n",
      "/sectores/consultoras/\n",
      "/sectores/tecnologicas/\n",
      "/sectores/organismos-publicos/\n",
      "/cursos/\n",
      "/carreras/\n",
      "/cursos/?kind=taller\n",
      "/cursos/?kind=lab\n",
      "/becas/\n",
      "/nosotros/\n",
      "/profesores/\n",
      "/contacto/\n",
      "https://library.openwebinars.net/\n",
      "/blog/?ref=footer\n",
      "/opiniones/?ref=footer\n",
      "/sitemap/\n",
      "/terminos-condiciones/\n",
      "/politica-privacidad/\n",
      "/aviso-legal-cookies/\n",
      "https://www.facebook.com/openwebinars\n",
      "https://twitter.com/openwebinars\n",
      "https://www.instagram.com/openwebinarsnet/\n",
      "https://es.linkedin.com/company/openwebinars\n",
      "/aviso-legal-cookies/\n"
     ]
    }
   ],
   "source": [
    "from bs4 import BeautifulSoup\n",
    "soup = BeautifulSoup(datos)\n",
    "tags = soup('a')\n",
    "for tag in tags:\n",
    "    print(tag.get('href'))"
   ]
  },
  {
   "cell_type": "markdown",
   "metadata": {
    "id": "npzN1t4-C7za"
   },
   "source": [
    "# Ejercicio 2"
   ]
  },
  {
   "cell_type": "code",
   "execution_count": 8,
   "metadata": {
    "id": "rzO7bD1iC7za"
   },
   "outputs": [],
   "source": [
    "import os  \n",
    "import re  \n",
    "import shutil  \n",
    "import requests  \n",
    "from requests.exceptions import HTTPError  \n",
    "from bs4 import BeautifulSoup  "
   ]
  },
  {
   "cell_type": "code",
   "execution_count": 9,
   "metadata": {
    "id": "6fVHn9ozC7zb"
   },
   "outputs": [],
   "source": [
    "def inicio():  \n",
    "    url = 'http://simpledesktops.com'\n",
    "    first_path = '/browse/'\n",
    "    download_directory = os.path.join(os.path.dirname(os.path.abspath('os.makedirs')), 'wallpapers')\n",
    "\n",
    "    if not os.path.exists(download_directory):\n",
    "        os.makedirs(download_directory)\n",
    "\n",
    "    processPage(url, first_path, download_directory)"
   ]
  },
  {
   "cell_type": "code",
   "execution_count": 10,
   "metadata": {
    "id": "mGomZMcDC7zb"
   },
   "outputs": [],
   "source": [
    "def processPage(url, path, download_directory):  \n",
    "    print('\\nPATH:', path)\n",
    "    print('=========================')\n",
    "\n",
    "    wallpapers = getPageContent(url + path)\n",
    "    if wallpapers['images']:\n",
    "        downloadWallpaper(wallpapers['images'], download_directory)\n",
    "    else:\n",
    "        print('Está página no contiene Wallpaper')\n",
    "    if wallpapers['next_page']:\n",
    "        processPage(url, wallpapers['next_page'], download_directory)\n",
    "    else:\n",
    "        print('Fin')"
   ]
  },
  {
   "cell_type": "code",
   "execution_count": 11,
   "metadata": {
    "id": "taYK_20tC7zc"
   },
   "outputs": [],
   "source": [
    "def getPageContent(url):  \n",
    "    images = []\n",
    "    next_page = None\n",
    "\n",
    "    html = requestPage(url)\n",
    "    if html is not None:\n",
    "        # Busca los wallpaper de la página URL\n",
    "        wallpapers = html.find_all('div', {'class': 'desktop'})\n",
    "        for wp in wallpapers:\n",
    "            img = wp.find('img')\n",
    "            images.append(img.attrs['src'])\n",
    "\n",
    "        # Realiza la búsqueda para la siguiente pagina URL\n",
    "        try:\n",
    "            more_button = html.find('a', {'class':'more'})\n",
    "            next_page = more_button.attrs['href']\n",
    "        except:\n",
    "            pass\n",
    "\n",
    "    return {'images': images, 'next_page': next_page}"
   ]
  },
  {
   "cell_type": "code",
   "execution_count": 12,
   "metadata": {
    "id": "nxNM5kOlC7zc"
   },
   "outputs": [],
   "source": [
    "def requestPage(url):  \n",
    "    try:\n",
    "        raw_html = requests.get(url)\n",
    "        try:\n",
    "            html = BeautifulSoup(raw_html.text, features='html.parser')\n",
    "            return html\n",
    "        except:\n",
    "            print('Error parsing HTML code')\n",
    "            return None\n",
    "    except HTTPError as e:\n",
    "        print(e.reason)\n",
    "        return None"
   ]
  },
  {
   "cell_type": "code",
   "execution_count": 13,
   "metadata": {
    "id": "I8ftBi9CC7zd"
   },
   "outputs": [],
   "source": [
    "def downloadWallpaper(wallpapers, directory):  \n",
    "    for url in wallpapers:\n",
    "        match_url = re.match('^.+?(\\.png|jpg)', url)\n",
    "        if match_url:\n",
    "            formated_url = match_url.group(0)\n",
    "            filename = formated_url[formated_url.rfind('/')+1:]\n",
    "            file_path = os.path.join(directory, filename)\n",
    "            print(file_path)\n",
    "\n",
    "            if not os.path.exists(file_path):\n",
    "                with requests.get(formated_url, stream=True) as wp_file:\n",
    "                    with open(file_path, 'wb') as output_file:\n",
    "                        shutil.copyfileobj(wp_file.raw, output_file)\n",
    "        else:\n",
    "            print('Wallpaper URL is invalid')"
   ]
  },
  {
   "cell_type": "code",
   "execution_count": null,
   "metadata": {
    "id": "s35vEmUyC7zd",
    "outputId": "e4a051b1-ee23-41a4-8d58-73f6c72ede38"
   },
   "outputs": [
    {
     "name": "stdout",
     "output_type": "stream",
     "text": [
      "\n",
      "PATH: /browse/\n",
      "=========================\n",
      "C:\\Users\\cezza\\OneDrive\\Documentos\\2.5 analisis\\wallpapers\\Raspberry_Pi_Minimalist.png\n",
      "C:\\Users\\cezza\\OneDrive\\Documentos\\2.5 analisis\\wallpapers\\V3_Loading_Wallpaper_1.1.png\n",
      "C:\\Users\\cezza\\OneDrive\\Documentos\\2.5 analisis\\wallpapers\\xubuntu.jpg\n",
      "C:\\Users\\cezza\\OneDrive\\Documentos\\2.5 analisis\\wallpapers\\complexisim.png\n",
      "C:\\Users\\cezza\\OneDrive\\Documentos\\2.5 analisis\\wallpapers\\fedora2.png\n",
      "C:\\Users\\cezza\\OneDrive\\Documentos\\2.5 analisis\\wallpapers\\traffic.png\n",
      "C:\\Users\\cezza\\OneDrive\\Documentos\\2.5 analisis\\wallpapers\\bg-wallpaper.png\n",
      "C:\\Users\\cezza\\OneDrive\\Documentos\\2.5 analisis\\wallpapers\\analogicareamarela.png\n",
      "C:\\Users\\cezza\\OneDrive\\Documentos\\2.5 analisis\\wallpapers\\triangle.png\n",
      "C:\\Users\\cezza\\OneDrive\\Documentos\\2.5 analisis\\wallpapers\\Royal_Marshall.png\n",
      "C:\\Users\\cezza\\OneDrive\\Documentos\\2.5 analisis\\wallpapers\\numaneo.jpg\n",
      "C:\\Users\\cezza\\OneDrive\\Documentos\\2.5 analisis\\wallpapers\\denglong.png\n",
      "C:\\Users\\cezza\\OneDrive\\Documentos\\2.5 analisis\\wallpapers\\planet-express.png\n",
      "C:\\Users\\cezza\\OneDrive\\Documentos\\2.5 analisis\\wallpapers\\wallpaper.png\n",
      "C:\\Users\\cezza\\OneDrive\\Documentos\\2.5 analisis\\wallpapers\\Christmas_decor.jpg\n",
      "C:\\Users\\cezza\\OneDrive\\Documentos\\2.5 analisis\\wallpapers\\the-witness.png\n",
      "C:\\Users\\cezza\\OneDrive\\Documentos\\2.5 analisis\\wallpapers\\nagra.png\n",
      "C:\\Users\\cezza\\OneDrive\\Documentos\\2.5 analisis\\wallpapers\\Madrid.png\n",
      "C:\\Users\\cezza\\OneDrive\\Documentos\\2.5 analisis\\wallpapers\\mountain.png\n",
      "C:\\Users\\cezza\\OneDrive\\Documentos\\2.5 analisis\\wallpapers\\headysmiley.png\n",
      "C:\\Users\\cezza\\OneDrive\\Documentos\\2.5 analisis\\wallpapers\\g66.png\n",
      "C:\\Users\\cezza\\OneDrive\\Documentos\\2.5 analisis\\wallpapers\\Light_Em_Up_2880x1800.jpg\n",
      "C:\\Users\\cezza\\OneDrive\\Documentos\\2.5 analisis\\wallpapers\\mirage.png\n",
      "C:\\Users\\cezza\\OneDrive\\Documentos\\2.5 analisis\\wallpapers\\low-poly-ice-cream.png\n",
      "C:\\Users\\cezza\\OneDrive\\Documentos\\2.5 analisis\\wallpapers\\memory.png\n",
      "C:\\Users\\cezza\\OneDrive\\Documentos\\2.5 analisis\\wallpapers\\CMYK__RGB.png\n",
      "C:\\Users\\cezza\\OneDrive\\Documentos\\2.5 analisis\\wallpapers\\fez.png\n",
      "C:\\Users\\cezza\\OneDrive\\Documentos\\2.5 analisis\\wallpapers\\portal.png\n",
      "\n",
      "PATH: /browse/2/\n",
      "=========================\n",
      "C:\\Users\\cezza\\OneDrive\\Documentos\\2.5 analisis\\wallpapers\\60s_Lightning.png\n",
      "C:\\Users\\cezza\\OneDrive\\Documentos\\2.5 analisis\\wallpapers\\Day_at_Camp.png\n",
      "C:\\Users\\cezza\\OneDrive\\Documentos\\2.5 analisis\\wallpapers\\%E6%8F%92%E5%A4%B4.png\n",
      "C:\\Users\\cezza\\OneDrive\\Documentos\\2.5 analisis\\wallpapers\\Artboard_1.png\n",
      "C:\\Users\\cezza\\OneDrive\\Documentos\\2.5 analisis\\wallpapers\\chain_circle.png\n",
      "C:\\Users\\cezza\\OneDrive\\Documentos\\2.5 analisis\\wallpapers\\Big_Sur_Simple.png\n",
      "C:\\Users\\cezza\\OneDrive\\Documentos\\2.5 analisis\\wallpapers\\Adidas_Blue.png\n",
      "C:\\Users\\cezza\\OneDrive\\Documentos\\2.5 analisis\\wallpapers\\sphericalharmonics1.png\n",
      "C:\\Users\\cezza\\OneDrive\\Documentos\\2.5 analisis\\wallpapers\\sk1.png\n",
      "C:\\Users\\cezza\\OneDrive\\Documentos\\2.5 analisis\\wallpapers\\tardis.png\n",
      "C:\\Users\\cezza\\OneDrive\\Documentos\\2.5 analisis\\wallpapers\\piano.jpg\n",
      "C:\\Users\\cezza\\OneDrive\\Documentos\\2.5 analisis\\wallpapers\\Afstand_Wallpaper.png\n",
      "C:\\Users\\cezza\\OneDrive\\Documentos\\2.5 analisis\\wallpapers\\Chocolate_Bar.png\n",
      "C:\\Users\\cezza\\OneDrive\\Documentos\\2.5 analisis\\wallpapers\\Uno_Xray.png\n",
      "C:\\Users\\cezza\\OneDrive\\Documentos\\2.5 analisis\\wallpapers\\Norhtern_Lights.png\n",
      "C:\\Users\\cezza\\OneDrive\\Documentos\\2.5 analisis\\wallpapers\\conwaylife.png\n",
      "C:\\Users\\cezza\\OneDrive\\Documentos\\2.5 analisis\\wallpapers\\desktop.png\n",
      "C:\\Users\\cezza\\OneDrive\\Documentos\\2.5 analisis\\wallpapers\\feed-me.png\n",
      "C:\\Users\\cezza\\OneDrive\\Documentos\\2.5 analisis\\wallpapers\\random_triangle.png\n",
      "C:\\Users\\cezza\\OneDrive\\Documentos\\2.5 analisis\\wallpapers\\Jupiter.png\n",
      "C:\\Users\\cezza\\OneDrive\\Documentos\\2.5 analisis\\wallpapers\\dia_de_muertos.png\n",
      "C:\\Users\\cezza\\OneDrive\\Documentos\\2.5 analisis\\wallpapers\\Dinosaur_eye_2.png\n",
      "C:\\Users\\cezza\\OneDrive\\Documentos\\2.5 analisis\\wallpapers\\trippin.png\n",
      "C:\\Users\\cezza\\OneDrive\\Documentos\\2.5 analisis\\wallpapers\\mod_synths_D_SimpleDesktops.png\n",
      "C:\\Users\\cezza\\OneDrive\\Documentos\\2.5 analisis\\wallpapers\\Block_Search.png\n",
      "C:\\Users\\cezza\\OneDrive\\Documentos\\2.5 analisis\\wallpapers\\Moon.jpg\n",
      "C:\\Users\\cezza\\OneDrive\\Documentos\\2.5 analisis\\wallpapers\\battery_dead_wallpaper.png\n",
      "C:\\Users\\cezza\\OneDrive\\Documentos\\2.5 analisis\\wallpapers\\CMYK_1.png\n",
      "\n",
      "PATH: /browse/3/\n",
      "=========================\n",
      "C:\\Users\\cezza\\OneDrive\\Documentos\\2.5 analisis\\wallpapers\\TV.png\n",
      "C:\\Users\\cezza\\OneDrive\\Documentos\\2.5 analisis\\wallpapers\\onepiece.png\n",
      "C:\\Users\\cezza\\OneDrive\\Documentos\\2.5 analisis\\wallpapers\\BeeEasyBee.png\n",
      "C:\\Users\\cezza\\OneDrive\\Documentos\\2.5 analisis\\wallpapers\\sunset-sd_2.png\n",
      "C:\\Users\\cezza\\OneDrive\\Documentos\\2.5 analisis\\wallpapers\\%E6%9C%AA%E6%A0%87%E9%A2%98-1.jpg\n",
      "C:\\Users\\cezza\\OneDrive\\Documentos\\2.5 analisis\\wallpapers\\KALLAX3.png\n",
      "C:\\Users\\cezza\\OneDrive\\Documentos\\2.5 analisis\\wallpapers\\zurich.png\n",
      "C:\\Users\\cezza\\OneDrive\\Documentos\\2.5 analisis\\wallpapers\\Apple_Park.png\n",
      "C:\\Users\\cezza\\OneDrive\\Documentos\\2.5 analisis\\wallpapers\\triangles.png\n",
      "C:\\Users\\cezza\\OneDrive\\Documentos\\2.5 analisis\\wallpapers\\owl.png\n",
      "C:\\Users\\cezza\\OneDrive\\Documentos\\2.5 analisis\\wallpapers\\jerli.jpg\n",
      "C:\\Users\\cezza\\OneDrive\\Documentos\\2.5 analisis\\wallpapers\\Watermelon.png\n",
      "C:\\Users\\cezza\\OneDrive\\Documentos\\2.5 analisis\\wallpapers\\nesSimpleDesktop_v01_1800.png\n",
      "C:\\Users\\cezza\\OneDrive\\Documentos\\2.5 analisis\\wallpapers\\trumpet.png\n",
      "C:\\Users\\cezza\\OneDrive\\Documentos\\2.5 analisis\\wallpapers\\cmyk-umbrella.png\n",
      "C:\\Users\\cezza\\OneDrive\\Documentos\\2.5 analisis\\wallpapers\\modlab_wallpaper_04.png\n",
      "C:\\Users\\cezza\\OneDrive\\Documentos\\2.5 analisis\\wallpapers\\square-bees.png\n",
      "C:\\Users\\cezza\\OneDrive\\Documentos\\2.5 analisis\\wallpapers\\Ink_Bottle_Droplets_FINAL_1.png\n",
      "C:\\Users\\cezza\\OneDrive\\Documentos\\2.5 analisis\\wallpapers\\jerli_bg02.jpg\n",
      "C:\\Users\\cezza\\OneDrive\\Documentos\\2.5 analisis\\wallpapers\\thanksgiving_twelvewalls.png\n",
      "C:\\Users\\cezza\\OneDrive\\Documentos\\2.5 analisis\\wallpapers\\Pencil_Big.png\n",
      "C:\\Users\\cezza\\OneDrive\\Documentos\\2.5 analisis\\wallpapers\\chain_copia.png\n",
      "C:\\Users\\cezza\\OneDrive\\Documentos\\2.5 analisis\\wallpapers\\robo.png\n",
      "C:\\Users\\cezza\\OneDrive\\Documentos\\2.5 analisis\\wallpapers\\Magnet.png\n",
      "C:\\Users\\cezza\\OneDrive\\Documentos\\2.5 analisis\\wallpapers\\Wall_of_Three.png\n",
      "C:\\Users\\cezza\\OneDrive\\Documentos\\2.5 analisis\\wallpapers\\Ballet_Shoes.png\n",
      "C:\\Users\\cezza\\OneDrive\\Documentos\\2.5 analisis\\wallpapers\\cortana.png\n",
      "C:\\Users\\cezza\\OneDrive\\Documentos\\2.5 analisis\\wallpapers\\dopamine2.png\n",
      "\n",
      "PATH: /browse/4/\n",
      "=========================\n",
      "C:\\Users\\cezza\\OneDrive\\Documentos\\2.5 analisis\\wallpapers\\amazed.png\n",
      "C:\\Users\\cezza\\OneDrive\\Documentos\\2.5 analisis\\wallpapers\\little_dudes.png\n",
      "C:\\Users\\cezza\\OneDrive\\Documentos\\2.5 analisis\\wallpapers\\Venice.png\n",
      "C:\\Users\\cezza\\OneDrive\\Documentos\\2.5 analisis\\wallpapers\\Mini_Mandelas.png\n",
      "C:\\Users\\cezza\\OneDrive\\Documentos\\2.5 analisis\\wallpapers\\spotlight.jpg\n",
      "C:\\Users\\cezza\\OneDrive\\Documentos\\2.5 analisis\\wallpapers\\calmfox.png\n",
      "C:\\Users\\cezza\\OneDrive\\Documentos\\2.5 analisis\\wallpapers\\popsicle_adventure_1.png\n",
      "C:\\Users\\cezza\\OneDrive\\Documentos\\2.5 analisis\\wallpapers\\minimalistic_rubik_cube_2880.png\n",
      "C:\\Users\\cezza\\OneDrive\\Documentos\\2.5 analisis\\wallpapers\\Nesting_Dolls.png\n",
      "C:\\Users\\cezza\\OneDrive\\Documentos\\2.5 analisis\\wallpapers\\flat_bamboo_wallpaper.png\n",
      "C:\\Users\\cezza\\OneDrive\\Documentos\\2.5 analisis\\wallpapers\\Hydrogen_Loss.png\n",
      "C:\\Users\\cezza\\OneDrive\\Documentos\\2.5 analisis\\wallpapers\\ESTRES.png\n",
      "C:\\Users\\cezza\\OneDrive\\Documentos\\2.5 analisis\\wallpapers\\polymagnet.png\n",
      "C:\\Users\\cezza\\OneDrive\\Documentos\\2.5 analisis\\wallpapers\\Dog.png\n",
      "C:\\Users\\cezza\\OneDrive\\Documentos\\2.5 analisis\\wallpapers\\showgaze_pb_02.png\n",
      "C:\\Users\\cezza\\OneDrive\\Documentos\\2.5 analisis\\wallpapers\\arrow.png\n",
      "C:\\Users\\cezza\\OneDrive\\Documentos\\2.5 analisis\\wallpapers\\GeoShapes_2880x1800.png\n",
      "C:\\Users\\cezza\\OneDrive\\Documentos\\2.5 analisis\\wallpapers\\open-reel-tape-recorder.png\n",
      "C:\\Users\\cezza\\OneDrive\\Documentos\\2.5 analisis\\wallpapers\\Christmas_Trees.png\n",
      "C:\\Users\\cezza\\OneDrive\\Documentos\\2.5 analisis\\wallpapers\\Untitled-1-03-01.png\n",
      "C:\\Users\\cezza\\OneDrive\\Documentos\\2.5 analisis\\wallpapers\\Hydrogen_Remixed.png\n",
      "C:\\Users\\cezza\\OneDrive\\Documentos\\2.5 analisis\\wallpapers\\Path.png\n",
      "C:\\Users\\cezza\\OneDrive\\Documentos\\2.5 analisis\\wallpapers\\Glasgow.png\n"
     ]
    },
    {
     "name": "stdout",
     "output_type": "stream",
     "text": [
      "C:\\Users\\cezza\\OneDrive\\Documentos\\2.5 analisis\\wallpapers\\Sunset.png\n",
      "C:\\Users\\cezza\\OneDrive\\Documentos\\2.5 analisis\\wallpapers\\Wind-Vector-resize.png\n",
      "C:\\Users\\cezza\\OneDrive\\Documentos\\2.5 analisis\\wallpapers\\b3d9be-background.png\n"
     ]
    }
   ],
   "source": [
    "inicio()"
   ]
  },
  {
   "cell_type": "code",
   "execution_count": null,
   "metadata": {},
   "outputs": [],
   "source": []
  }
 ],
 "metadata": {
  "colab": {
   "provenance": []
  },
  "kernelspec": {
   "display_name": "Python 3 (ipykernel)",
   "language": "python",
   "name": "python3"
  },
  "language_info": {
   "codemirror_mode": {
    "name": "ipython",
    "version": 3
   },
   "file_extension": ".py",
   "mimetype": "text/x-python",
   "name": "python",
   "nbconvert_exporter": "python",
   "pygments_lexer": "ipython3",
   "version": "3.10.11"
  }
 },
 "nbformat": 4,
 "nbformat_minor": 1
}
